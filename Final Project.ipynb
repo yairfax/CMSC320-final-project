{
 "cells": [
  {
   "cell_type": "markdown",
   "metadata": {},
   "source": [
    "### Yonatan Klausner, Jonathan Rawson, and Yair Fax \n",
    "## Final Project - HustleBall"
   ]
  },
  {
   "cell_type": "markdown",
   "metadata": {},
   "source": [
    "The Moneyball theory is fairly simple: Using statistical analysis, small-market teams (i.e. teams who do not spend a lot of money) can compete by buying assets that are undervalued by other teams and selling ones that are overvalued by other teams.\n",
    "The key to Moneyball is figuring out how to know when a player is \"undervalued\". Here is a [link](http://grantland.com/features/the-economics-moneyball/) to read more about Moneyball.\n",
    "\n",
    "For our project, we will be looking at statistics in the National Basketball Association (NBA). \n",
    "Among other statistics, we will mainly be looking at statistics that involve some sort of hustling. \n",
    "These statistics include screen assists, deflections, loose balls recovered, charges drawn, contested shots, which we will explain in detail below. \n",
    "We would like to find some sort of correlation between a hustle score that we calculate ourselves and other statistics.  Ideally, our findings will help teams go after specific players due to hustle scores. "
   ]
  },
  {
   "cell_type": "code",
   "execution_count": 2,
   "metadata": {
    "collapsed": false
   },
   "outputs": [
    {
     "ename": "ImportError",
     "evalue": "No module named 'sklearn.model_selection'",
     "output_type": "error",
     "traceback": [
      "\u001b[0;31m---------------------------------------------------------------------------\u001b[0m",
      "\u001b[0;31mImportError\u001b[0m                               Traceback (most recent call last)",
      "\u001b[0;32m<ipython-input-2-0e144e41fdd8>\u001b[0m in \u001b[0;36m<module>\u001b[0;34m()\u001b[0m\n\u001b[1;32m     13\u001b[0m \u001b[0;32mfrom\u001b[0m \u001b[0msklearn\u001b[0m\u001b[0;34m.\u001b[0m\u001b[0mlinear_model\u001b[0m \u001b[0;32mimport\u001b[0m \u001b[0mLinearRegression\u001b[0m\u001b[0;34m\u001b[0m\u001b[0m\n\u001b[1;32m     14\u001b[0m \u001b[0;32mimport\u001b[0m \u001b[0mseaborn\u001b[0m \u001b[0;32mas\u001b[0m \u001b[0msns\u001b[0m\u001b[0;34m\u001b[0m\u001b[0m\n\u001b[0;32m---> 15\u001b[0;31m \u001b[0;32mfrom\u001b[0m \u001b[0msklearn\u001b[0m\u001b[0;34m.\u001b[0m\u001b[0mmodel_selection\u001b[0m \u001b[0;32mimport\u001b[0m \u001b[0mcross_val_score\u001b[0m\u001b[0;34m\u001b[0m\u001b[0m\n\u001b[0m\u001b[1;32m     16\u001b[0m \u001b[0;32mfrom\u001b[0m \u001b[0msklearn\u001b[0m\u001b[0;34m.\u001b[0m\u001b[0mmodel_selection\u001b[0m \u001b[0;32mimport\u001b[0m \u001b[0mtrain_test_split\u001b[0m\u001b[0;34m\u001b[0m\u001b[0m\n\u001b[1;32m     17\u001b[0m \u001b[0;34m\u001b[0m\u001b[0m\n",
      "\u001b[0;31mImportError\u001b[0m: No module named 'sklearn.model_selection'"
     ]
    }
   ],
   "source": [
    "# Imports needed for project \n",
    "from bs4 import BeautifulSoup\n",
    "from selenium import webdriver\n",
    "from selenium.webdriver.common.by import By\n",
    "import requests\n",
    "import pandas as pd\n",
    "import numpy as np\n",
    "import pylab as pl\n",
    "%matplotlib inline\n",
    "from IPython.core.pylabtools import figsize\n",
    "import matplotlib.pyplot as plt\n",
    "figsize(14, 7)\n",
    "from sklearn.linear_model import LinearRegression\n",
    "import seaborn as sns\n",
    "from sklearn.model_selection import cross_val_score\n",
    "from sklearn.model_selection import train_test_split\n",
    "\n",
    "# hustle stat - average mph, miles run, balls deflected, contested shots, stats per minute (steals, o rebounds, feet), \n",
    "# jump balls, Loose balls recovered, boxouts, screen assists, charges, team, average salary, all nba or all star teams \n",
    "# https://stats.nba.com/players/speed-distance/?sort=AVG_SPEED&dir=1\n",
    "\n",
    "# To do:\n",
    "# 1) change the way calculate hustle score \n",
    "#        a) add in distance and speed (https://stats.nba.com/players/speed-distance/?sort=DIST_MILES_DEF&dir=1&Season=2017-18&SeasonType=Regular%20Season)\n",
    "# 2) change up scatter plots \n",
    "# 3) sort by position\n",
    "# 4) trends over time - playoff teams, non-playoff teams, championship teams\n",
    "# 5) predict current season outcomes\n",
    "# 6) more detailed comparisons with wins\n",
    "# 7) look at specific player hustle in a team as correlated with wins\n",
    "# 8) ML \n",
    "\n",
    "# Problems:\n",
    "# 1) Jrue Holiday \n",
    "\n",
    "\n",
    "# Reminders: \n",
    "# 1) GP >= 40 make sure not for current season\n"
   ]
  },
  {
   "cell_type": "markdown",
   "metadata": {},
   "source": [
    "## Part 1: Get Data\n",
    "In this section we get all the data that we will be using for our project.  \n",
    "In the end, we will have five preliminary tables which we will explain in depth later on."
   ]
  },
  {
   "cell_type": "markdown",
   "metadata": {},
   "source": [
    "### Step 1: Define Functions for Getting Different Data"
   ]
  },
  {
   "cell_type": "markdown",
   "metadata": {},
   "source": [
    "These functions get statistics from NBA.com. We use an automated browser ([link](https://webkit.org/blog/6900/webdriver-support-in-safari-10/) to read more) instead of a simple get request because the HTML is not fully populated in the request. The scripts on the page populate the table's data. We use javascript in the browser to edit elements of the page so that we can \"click\" them to display the full table. We then pull the HTML from the page and pass it to Pandas to create a dataframe."
   ]
  },
  {
   "cell_type": "code",
   "execution_count": null,
   "metadata": {
    "collapsed": true
   },
   "outputs": [],
   "source": [
    "def getHustleStats(year):\n",
    "    return getYearStats(\"https://stats.nba.com/players/hustle/?sort=MIN&dir=-1&Season=\" + year + \"&SeasonType=Regular%20Season\", year)\n",
    "\n",
    "def getRegularStats(year):\n",
    "    return getYearStats(\"https://stats.nba.com/leaders/?Season=\" + year + \"&SeasonType=Regular%20Season\", year)\n",
    "\n",
    "def getYearStats(url, year):\n",
    "    # Use an automated browser so that the webpage is rendered properly\n",
    "    browser = webdriver.Safari()\n",
    "    browser.get(url)\n",
    "    \n",
    "    # Edit HTML so that we can get the whole table\n",
    "    browser.execute_script('document.getElementsByClassName(\"stats-table-pagination__select\")[0].setAttribute(\"id\", \"btn\")')\n",
    "    browser.execute_script('document.getElementById(\"btn\").children[0].setAttribute(\"id\", \"select-all\")')\n",
    "    nextButton = browser.find_element_by_id('btn')\n",
    "    allButton = browser.find_element_by_id('select-all')\n",
    "    \n",
    "    # Click on buttons to get whole table\n",
    "    nextButton.click()\n",
    "    allButton.click()\n",
    "    \n",
    "    # Get HTML and parse\n",
    "    innerHTML = browser.execute_script(\"return document.body.innerHTML\")\n",
    "    root = BeautifulSoup(innerHTML, \"lxml\")\n",
    "    table = pd.read_html(str(root.find(\"table\")))\n",
    "    table = table[0]\n",
    "    \n",
    "    # Add year column for later table merging\n",
    "    table['year'] = year\n",
    "    browser.close()\n",
    "    return table"
   ]
  },
  {
   "cell_type": "markdown",
   "metadata": {},
   "source": [
    "This function uses a simple get request for a specific year to get data about players' positions."
   ]
  },
  {
   "cell_type": "code",
   "execution_count": null,
   "metadata": {
    "collapsed": true
   },
   "outputs": [],
   "source": [
    "def getPositions(year):\n",
    "    url = \"https://www.basketball-reference.com/leagues/NBA_\" + str(year) + \"_per_game.html\"\n",
    "    r = requests.get(url)\n",
    "    root = BeautifulSoup(r.content, \"lxml\")\n",
    "    data = root.find(\"table\")\n",
    "    positions_table = pd.read_html(str(data))[0]\n",
    "    positions_table['year'] = str(year - 1) + \"-\" + str(year - 2000)\n",
    "    return positions_table"
   ]
  },
  {
   "cell_type": "markdown",
   "metadata": {},
   "source": [
    "These functions read simple csv files stored on disk."
   ]
  },
  {
   "cell_type": "code",
   "execution_count": null,
   "metadata": {
    "collapsed": true
   },
   "outputs": [],
   "source": [
    "def getTeams(filename, year):\n",
    "    teamTable = pd.read_csv(filename)\n",
    "    teamTable['year'] = year\n",
    "    return teamTable\n",
    "\n",
    "def getSalaries(filename):\n",
    "    salaryTable = pd.read_csv(filename)\n",
    "    return salaryTable"
   ]
  },
  {
   "cell_type": "markdown",
   "metadata": {},
   "source": [
    "### Step 2: Get Hustle Data on Players\n",
    "This data consists of several statistics that are related to player hustling (see where we got the data from [here](https://stats.nba.com/players/hustle/?sort=MIN&dir=1&Season=2016-17&SeasonType=Regular%20Season)).  The statistics we will use from this data are:  \n",
    "\n",
    "1. **Screen assists** - a screen is a blocking move by an offensive player, by standing beside or behind a defender, to free a teammate to shoot, receive a pass, or drive in to score. A screen assist is a screen that directly leads to a made field goal.  \n",
    "\n",
    "2. **Deflections** - a deflection occurs when a defensive player redirects the intended direction of the ball.\n",
    "\n",
    "3. **Loose Balls Recovered** - a loose ball is when neither team is in control of the ball.  A loose ball recovered is when a player recovers a loose ball.   \n",
    "\n",
    "4. **Charges Drawn** - a charge, or player-control foul, occurs when a dribbler charges into a defender who has already established his position.  A drawn charge is when a defender takes a charge on an offensive player, meaning the defensive player is in position and the offensive player charges into him.  \n",
    "\n",
    "5. **Contested Shots** - a contested shot is when a defender is within 4 ft of the person shooting.   "
   ]
  },
  {
   "cell_type": "markdown",
   "metadata": {},
   "source": [
    "This function is used in cleaning our data. We get rid of any relevant non alphabetical characters as well as some specific suffixes. We do this to make sure that different tables have the same values for Players' names. For example, we want C.J. Watson to match CJ Watson, John Lucas III to match John Lucas, and Kelly Oubre Jr. to match Kelly Oubre."
   ]
  },
  {
   "cell_type": "code",
   "execution_count": null,
   "metadata": {
    "collapsed": true
   },
   "outputs": [],
   "source": [
    "def stripChars(series):\n",
    "    return series.str.replace('Jr\\.', '').str.replace('.', '').str.replace(',', '').str.replace('III', '').str.replace('II', '').str.replace('IV', '').str.rstrip()"
   ]
  },
  {
   "cell_type": "code",
   "execution_count": null,
   "metadata": {
    "collapsed": true
   },
   "outputs": [],
   "source": [
    "hustle16_17 = getHustleStats(\"2016-17\") \n",
    "hustle17_18 = getHustleStats(\"2017-18\")"
   ]
  },
  {
   "cell_type": "code",
   "execution_count": null,
   "metadata": {
    "collapsed": false
   },
   "outputs": [],
   "source": [
    "hustleStats = hustle16_17.append(hustle17_18)\n",
    "hustleStats['Player'] = stripChars(hustleStats['Player'])\n",
    "hustleStats.head()"
   ]
  },
  {
   "cell_type": "markdown",
   "metadata": {},
   "source": [
    "### Step 3: Get Data for Regular Statistics on Players \n",
    "This data consists of several common, player statistics such as **MIN** (minutes per game), **PTS** (points per game), **FGM** (field goals made per game), **REB** (rebounds per game), etc. (see where we got the data from [here](https://stats.nba.com/leaders/?Season=2016-17&SeasonType=Regular%20Season))"
   ]
  },
  {
   "cell_type": "code",
   "execution_count": null,
   "metadata": {
    "collapsed": false
   },
   "outputs": [],
   "source": [
    "regular16_17 = getRegularStats(\"2016-17\") \n",
    "regular17_18 = getRegularStats(\"2017-18\")\n",
    "regularStats = regular16_17.append(regular17_18)\n",
    "regularStats.head()"
   ]
  },
  {
   "cell_type": "markdown",
   "metadata": {},
   "source": [
    "### Step 4: Get Data for Positions of Players\n",
    "This data consists of the positions for each player.  The five positions are:\n",
    "1. **PG** - point guard\n",
    "2. **SG** - shooting guard\n",
    "3. **SF** - small forward \n",
    "4. **PF** - power forward\n",
    "5. **C** - center\n",
    "\n",
    "Typically, the **point guard** is the leader of the team when on the court. Being the point guard requires polished ball handling skills and the ability to facilitate the team during a play. The **shooting guard** is generally the best shooter and is usually capable of shooting from farther distances. Generally, they also have good ball-handling skills. The **small forward** often has an aggressive approach to the basket on offense. The **power forward** and the center are usually called \"low post\" players. They often act as their team's primary rebounders and shot blockers, and also generally get the ball closer to the hoop to take inside shots. The **center** is typically the larger of the two. To read more about the different positions in basketball, please click this [link](https://en.wikipedia.org/wiki/Basketball_positions)."
   ]
  },
  {
   "cell_type": "code",
   "execution_count": null,
   "metadata": {
    "collapsed": true
   },
   "outputs": [],
   "source": [
    "positions16_17 = getPositions(2017)[['Player', 'Pos', 'year']]\n",
    "positions17_18 = getPositions(2018)[['Player', 'Pos', 'year']]"
   ]
  },
  {
   "cell_type": "code",
   "execution_count": null,
   "metadata": {
    "collapsed": false
   },
   "outputs": [],
   "source": [
    "positionsTable = positions16_17.append(positions17_18)\n",
    "positionsTable.head()"
   ]
  },
  {
   "cell_type": "markdown",
   "metadata": {},
   "source": [
    "### Step 5: Get Data for Team Wins "
   ]
  },
  {
   "cell_type": "markdown",
   "metadata": {},
   "source": [
    "This data consists of team statistics such as wins, losses, home record, road record, etc.  \n",
    "We use this data to get the number of wins for a team in a given year"
   ]
  },
  {
   "cell_type": "code",
   "execution_count": null,
   "metadata": {
    "collapsed": false
   },
   "outputs": [],
   "source": [
    "teamsWins16_17 = getTeams('teams_2016_2017.csv', '2016-17') \n",
    "teamsWins17_18 = getTeams('teams_2017_2018.csv', '2017-18') \n",
    "teamsWins16_17.head()"
   ]
  },
  {
   "cell_type": "markdown",
   "metadata": {},
   "source": [
    "### Step 6: Get Data for Salaries of Players"
   ]
  },
  {
   "cell_type": "markdown",
   "metadata": {},
   "source": [
    "This data consists of player salaries ([link](https://data.world/datadavis/nba-salaries)). "
   ]
  },
  {
   "cell_type": "code",
   "execution_count": null,
   "metadata": {
    "collapsed": false
   },
   "outputs": [],
   "source": [
    "salaryTable = getSalaries('player_salaries.csv')\n",
    "salaryTable.head()"
   ]
  },
  {
   "cell_type": "markdown",
   "metadata": {},
   "source": [
    "## Part 2: Clean Data\n",
    "After getting all the data needed for our project, we need to clean the data so that we are able to use each table easily (short, informative [read](https://medium.com/datadriveninvestor/data-cleaning-for-data-scientist-363fbbf87e5f)).   \n",
    "First, we merge the hustleStats table and the positionsTable on the player and year columns in order to add the positions to the hustleStats table.  \n",
    "We then print out any players in the merged table with a null position. "
   ]
  },
  {
   "cell_type": "code",
   "execution_count": null,
   "metadata": {
    "collapsed": false
   },
   "outputs": [],
   "source": [
    "hustleStatsTemp = pd.merge(hustleStats, positionsTable, on=['Player', 'year'], how='left')\n",
    "hustleStatsTemp[pd.isnull(hustleStatsTemp['Pos'])]"
   ]
  },
  {
   "cell_type": "markdown",
   "metadata": {},
   "source": [
    "As seen above, there are a few players whose position was not set properly.  \n",
    "After looking closely into each case, we realized what was going wrong for each of them.\n",
    "1. For a number of the players above, in one table they will have a roman numeral added to the end of their name (e.g. \"II\") whereas in the other table it will not have the roman numeral.\n",
    "2. Some players in one table have suffixes such as \"Jr.\" whereas in the other table they do not have those suffixes. \n",
    "3. A number of players will have dots in their names in one table (e.g. D.J.) and not in the other table (e.g. DJ). \n",
    "4. Taurean Prince - in one table he was named \"Taurean Prince\" and in the other table it had \"Taurean Waller-Prince\".\n",
    "5. Nene - in one table he was named \"Nene\" and in the other table it had \"Nene Hilario\".  \n",
    "\n",
    "First, we dropped all duplicated rows with the same player and year.   \n",
    "Then we stripped certain characters in player names such as \"Jr.\", \"I\", and \"II\" because one table had \"Jr.\", \"I\", and \"II\" and the other did not.  Therefore, when merging the tables on the player names, the merge took those players has two different players as opposed to the same player.  \n",
    "Next, we took care of Nene and Taurean Prince cases by renaming them in the table. "
   ]
  },
  {
   "cell_type": "code",
   "execution_count": null,
   "metadata": {
    "collapsed": false
   },
   "outputs": [],
   "source": [
    "positionsTable = positionsTable.drop_duplicates(subset=['Player', 'year'])\n",
    "positionsTable['Player'] = stripChars(positionsTable['Player'])\n",
    "positionsTable.loc[positionsTable['Player'] == 'Nene Hilario', 'Player'] = 'Nene'\n",
    "positionsTable.loc[positionsTable['Player'] == 'Taurean Waller-Prince', 'Player'] = 'Taurean Prince'\n",
    "positionsTable.head()"
   ]
  },
  {
   "cell_type": "markdown",
   "metadata": {},
   "source": [
    "After cleaning the data some more, we then merge the hustleStats table and the postionsTable again.  \n",
    "We then print the rows in the hustleStats that have a null position. "
   ]
  },
  {
   "cell_type": "code",
   "execution_count": null,
   "metadata": {
    "collapsed": false
   },
   "outputs": [],
   "source": [
    "hustleStats = pd.merge(hustleStats, positionsTable, on=['Player', 'year'], how='left')\n",
    "hustleStats[pd.isnull(hustleStats['Pos'])]"
   ]
  },
  {
   "cell_type": "code",
   "execution_count": null,
   "metadata": {
    "collapsed": false
   },
   "outputs": [],
   "source": [
    "hustleStats = hustleStats.dropna(subset=['Pos'])\n",
    "hustleStats.head()"
   ]
  },
  {
   "cell_type": "markdown",
   "metadata": {},
   "source": [
    "Next, we clean the hustleStats table. \n",
    "1. Drop any players that average less than 15 minutes per game. \n",
    "2. Drop any players that played less than 40 games in the season. \n",
    "3. Change the \"TEAM\" column to be named 'Team' \n",
    "4. Change any player with the two positions of SF and SG to just have a position of SF \n",
    "5. Drop unused columns \n",
    "6. Drop duplicated players within the same year "
   ]
  },
  {
   "cell_type": "code",
   "execution_count": null,
   "metadata": {
    "collapsed": false
   },
   "outputs": [],
   "source": [
    "hustleStats = hustleStats[hustleStats['MIN'] >= 15] # Delete players who did not average 15 minutes per game \n",
    "hustleStats = hustleStats[hustleStats['GP'] >= 40] # Delete players who did not play 40 games \n",
    "hustleStats = hustleStats.rename(columns = {'TEAM': 'Team'}) # Rename column \n",
    "hustleStats.loc[hustleStats['Pos'] == 'SF-SG', 'Pos'] = 'SF' # Change position of player from multiple positions to one \n",
    "# Drop unused columns \n",
    "hustleStats = hustleStats.drop(['ScreenAssists PTS', 'OFF Loose BallsRecovered', 'DEF Loose BallsRecovered', '% Loose BallsRecovered OFF', '% Loose BallsRecovered DEF'], axis=1)\n",
    "hustleStats = hustleStats.drop_duplicates(subset=['Player', 'year'])\n",
    "hustleStats.head()"
   ]
  },
  {
   "cell_type": "code",
   "execution_count": null,
   "metadata": {
    "collapsed": false
   },
   "outputs": [],
   "source": [
    "teamWinsTable = teamsWins16_17.append(teamsWins17_18)\n",
    "# Drop unused columns \n",
    "teamWinsTable = teamWinsTable.drop(['L', 'Win%', 'GB', 'Conf', 'Div', 'Home', 'Road', 'OT', 'Last 10', 'Streak'], axis=1)\n",
    "teamWinsTable = teamWinsTable.rename(columns = {'W': 'Wins'}) # Rename column\n",
    "teamWinsTable.head()"
   ]
  },
  {
   "cell_type": "markdown",
   "metadata": {},
   "source": [
    "Next we clean the salary table.  \n",
    "First, we get the data that is from the 2016-17 season and 2017-18.  Then we drop a few columns and remove any duplicates.  Lastly, we rename the year columns to match our other tables.  "
   ]
  },
  {
   "cell_type": "code",
   "execution_count": null,
   "metadata": {
    "collapsed": false
   },
   "outputs": [],
   "source": [
    "salaryTable = salaryTable[salaryTable['year'] >= 2017]\n",
    "salaryTable = salaryTable.drop(['team_name', 'season_end', 'team'], axis=1)\n",
    "salaryTable = salaryTable.drop_duplicates(subset=['Player', 'year'])\n",
    "salaryTable.loc[salaryTable['year'] == 2016, 'year'] = '2016-17'\n",
    "salaryTable.loc[salaryTable['year'] == 2017, 'year'] = '2017-18'\n",
    "salaryTable.head()"
   ]
  },
  {
   "cell_type": "markdown",
   "metadata": {},
   "source": [
    "Now, we have 5 clean tables:   \n",
    "1. **hustleStats** - players with different hustle stats\n",
    "2. **regularStats** - players with normal statistics\n",
    "3. **positionsTable** - players with their positions \n",
    "4. **teamsWinsTable** - teams with their wins\n",
    "5. **salaryTable** - players with their salaries "
   ]
  },
  {
   "cell_type": "markdown",
   "metadata": {
    "collapsed": true
   },
   "source": [
    "## Part 3: Calculate Hustle Score"
   ]
  },
  {
   "cell_type": "markdown",
   "metadata": {},
   "source": [
    "In order to calculate our hustle score, we will use the sum of screen assists, deflections, loose balls recovered, charges drawn, and contested shots.  However, if we just took the sum of those statistics for each player, certain statistics, such as contested shots, would effect the overall hustle score more than others because its numbers are generally higher.  Therefore, we decided to normalize each statistic by dividing its value by the max for that specific statistic.  "
   ]
  },
  {
   "cell_type": "code",
   "execution_count": null,
   "metadata": {
    "collapsed": false
   },
   "outputs": [],
   "source": [
    "maxScreenAssists = (hustleStats['ScreenAssists']/hustleStats['MIN']).max()\n",
    "maxDeflections = (hustleStats['Deflections']/hustleStats['MIN']).max()\n",
    "maxLooseBallsRecovered = (hustleStats['Loose BallsRecovered']/hustleStats['MIN']).max()\n",
    "maxChargesDrawn = (hustleStats['ChargesDrawn']/hustleStats['MIN']).max()\n",
    "maxContestedShots = (hustleStats['ContestedShots']/hustleStats['MIN']).max()\n",
    "print(\"maxScreenAssists per minute: \" + str(maxScreenAssists))\n",
    "print(\"maxDeflections per minute: \" + str(maxDeflections))\n",
    "print(\"maxLooseBallsRecovered per minute: \" + str(maxLooseBallsRecovered))\n",
    "print(\"maxChargesDrawn per minute: \" + str(maxChargesDrawn))\n",
    "print(\"maxContestedShots per minute: \" + str(maxContestedShots))"
   ]
  },
  {
   "cell_type": "code",
   "execution_count": null,
   "metadata": {
    "collapsed": false
   },
   "outputs": [],
   "source": [
    "hustleStats['HustleScore'] = (hustleStats['ScreenAssists']/maxScreenAssists + hustleStats['Deflections']/maxDeflections + hustleStats['Loose BallsRecovered']/maxLooseBallsRecovered + hustleStats['ChargesDrawn']/maxChargesDrawn + hustleStats['ContestedShots']/maxContestedShots)/(hustleStats['MIN'])\n",
    "hustleStats.head()"
   ]
  },
  {
   "cell_type": "code",
   "execution_count": null,
   "metadata": {
    "collapsed": false
   },
   "outputs": [],
   "source": [
    "# Sort table by HustleScore\n",
    "hustleStats = hustleStats.sort_values(by=['HustleScore'],ascending=False)\n",
    "hustleStats.head(5)"
   ]
  },
  {
   "cell_type": "markdown",
   "metadata": {},
   "source": [
    "## Part 4: Look for Potential Correlation Between HustleScore and Other Parameters"
   ]
  },
  {
   "cell_type": "code",
   "execution_count": null,
   "metadata": {
    "collapsed": false
   },
   "outputs": [],
   "source": [
    "scatter = hustleStats.plot.scatter('AGE', 'HustleScore')\n",
    "\n",
    "(m, b) = np.polyfit(hustleStats['AGE'], hustleStats['HustleScore'], 1)\n",
    "# Calculate the actual best fit line \n",
    "regression_line = [(m*x)+b for x in hustleStats['AGE']]\n",
    "scatter.plot(hustleStats['AGE'], regression_line, color='red') \n",
    "correlation = np.corrcoef(hustleStats['HustleScore'], hustleStats['AGE'])[0,1]\n",
    "\n",
    "# Label the plot\n",
    "scatter.set_title(\"Distribution of Hustle Scores Across Age (2016-2018) with r = \" + str(round(correlation,2)))\n",
    "\n",
    "# Label the plot\n",
    "#scatter.set_title(\"Distribution of Hustle Scores Across Age (2016-2018) with (m, b) = (\" + str(round(m,2)) + \", \" + str(round(b, 2)) + \")\")\n",
    "scatter.set_xlabel(\"Age\")\n",
    "scatter.set_ylabel(\"Hustle Scores\")"
   ]
  },
  {
   "cell_type": "markdown",
   "metadata": {},
   "source": [
    "The above plot shows a slight negative correlation between age and hustle scores.  That is to say that as a player's age increases, a player's hustle score generally decreases slightly. "
   ]
  },
  {
   "cell_type": "code",
   "execution_count": null,
   "metadata": {
    "collapsed": false
   },
   "outputs": [],
   "source": [
    "scatter = hustleStats.plot.scatter('MIN', 'HustleScore')\n",
    "\n",
    "(m, b) = np.polyfit(hustleStats['MIN'], hustleStats['HustleScore'], 1)\n",
    "# Calculate the actual best fit line \n",
    "regression_line = [(m*x)+b for x in hustleStats['MIN']]\n",
    "scatter.plot(hustleStats['MIN'], regression_line, color='red') \n",
    "\n",
    "correlation = np.corrcoef(hustleStats['HustleScore'], hustleStats['MIN'])[0,1]\n",
    "\n",
    "# Label the plot\n",
    "scatter.set_title(\"Distribution of Hustle Scores Across Minutes Per Game (2016-2018) with r = \" + str(round(correlation,2)))\n",
    "\n",
    "# Label the plot\n",
    "# scatter.set_title(\"Distribution of Hustle Scores Across Minutes Per Game (2016-2018) with (m, b) = (\" + str(round(m,2)) + \", \" + str(round(b, 2)) + \")\")\n",
    "scatter.set_xlabel(\"Minutes Per Game\")\n",
    "scatter.set_ylabel(\"Hustle Scores\")"
   ]
  },
  {
   "cell_type": "markdown",
   "metadata": {},
   "source": [
    "The above plot shows a slight negative correlation between minutes per game played and hustle scores.  That is to say that as a player's minutes per game increases, a player's hustle score generally decreases slightly. "
   ]
  },
  {
   "cell_type": "code",
   "execution_count": null,
   "metadata": {
    "collapsed": false
   },
   "outputs": [],
   "source": [
    "teamHustleTable = pd.DataFrame(hustleStats.groupby(['Team', 'year'])['HustleScore'].sum())\n",
    "teamHustleTable = teamHustleTable.sort_values(by=['HustleScore'],ascending=False)\n",
    "teamHustleTable = teamHustleTable.reset_index()\n",
    "teamHustleTable.head()"
   ]
  },
  {
   "cell_type": "code",
   "execution_count": null,
   "metadata": {
    "collapsed": false
   },
   "outputs": [],
   "source": [
    "teamTable = pd.merge(teamHustleTable, teamWinsTable, on=['Team', 'year'])\n",
    "teamTable.head()"
   ]
  },
  {
   "cell_type": "code",
   "execution_count": null,
   "metadata": {
    "collapsed": false
   },
   "outputs": [],
   "source": [
    "# Convert type of wins column to int32 because cannot be of object type when plotting \n",
    "teamTable['Wins'] = teamTable['Wins'].astype('int32')\n",
    "x = teamTable['HustleScore']\n",
    "y = teamTable['Wins']\n",
    "fig, ax = plt.subplots()\n",
    "ax.scatter(x, y) \n",
    "\n",
    "# Get the slope and intercept for the best fit line \n",
    "(m, b) = np.polyfit(teamTable['HustleScore'], teamTable['Wins'], 1)\n",
    "# Calculate the actual best fit line \n",
    "regression_line = [(m*x)+b for x in teamTable['HustleScore']]\n",
    "ax.plot(teamTable['HustleScore'], regression_line, color='red') \n",
    "\n",
    "correlation = np.corrcoef(teamTable['HustleScore'], teamTable['Wins'])[0,1]\n",
    "\n",
    "# Label the plot\n",
    "ax.set_title(\"Distribution of Hustle Scores Across Wins (2016-2018) with r = \" + str(round(correlation,2)))\n",
    "\n",
    "# Label the plot\n",
    "#ax.set_title(\"Distribution of Hustle Scores Across Team Wins (2016-2018) with (m, b) = (\" + str(round(m,2)) + \", \" + str(round(b, 2)) + \")\")\n",
    "ax.set_xlabel(\"Team Hustle Score\")\n",
    "ax.set_ylabel(\"Team Wins\")"
   ]
  },
  {
   "cell_type": "markdown",
   "metadata": {},
   "source": [
    "The above plot shows a positive correlation between team wins and hustle scores.  That is to say that as a team's wins  increases, a team's hustle score generally increases. "
   ]
  },
  {
   "cell_type": "code",
   "execution_count": null,
   "metadata": {
    "collapsed": false
   },
   "outputs": [],
   "source": [
    "x = hustleStats['Pos']\n",
    "y = hustleStats['HustleScore']\n",
    "fig, ax = plt.subplots()\n",
    "ax.scatter(x, y)\n",
    "ax.set_xlabel(\"Position\")\n",
    "ax.set_ylabel(\"Hustle Score\")\n",
    "ax.set_title(\"Distribution of Position Across Hustle Score (2016-2018)\")"
   ]
  },
  {
   "cell_type": "code",
   "execution_count": null,
   "metadata": {
    "collapsed": false
   },
   "outputs": [],
   "source": [
    "topTeams = teamTable[teamTable['Wins'] >= teamTable['Wins'].median()]\n",
    "topTeams = topTeams[topTeams['HustleScore'] >= topTeams['HustleScore'].median()]\n",
    "topTeams.head()"
   ]
  },
  {
   "cell_type": "code",
   "execution_count": null,
   "metadata": {
    "collapsed": false
   },
   "outputs": [],
   "source": [
    "bottomTeams = teamTable[teamTable['Wins'] < teamTable['Wins'].median()]\n",
    "bottomTeams = bottomTeams[bottomTeams['HustleScore'] < bottomTeams['HustleScore'].median()]\n",
    "bottomTeams.head()"
   ]
  },
  {
   "cell_type": "code",
   "execution_count": null,
   "metadata": {
    "collapsed": false
   },
   "outputs": [],
   "source": [
    "topTeamsPlayers = pd.merge(topTeams, hustleStats, how='left', on=['Team']).sort_values('Pos')\n",
    "x = topTeamsPlayers['Pos']\n",
    "y = topTeamsPlayers['HustleScore_y']\n",
    "fig, ax = plt.subplots()\n",
    "ax.set_yticks(range(1,3,1))\n",
    "ax.scatter(x, y)"
   ]
  },
  {
   "cell_type": "code",
   "execution_count": null,
   "metadata": {
    "collapsed": false
   },
   "outputs": [],
   "source": [
    "bottomTeamsPlayers = pd.merge(bottomTeams, hustleStats, how='left', on=['Team']).sort_values('Pos')\n",
    "x = bottomTeamsPlayers['Pos']\n",
    "y = bottomTeamsPlayers['HustleScore_y']\n",
    "fig, ax = plt.subplots()\n",
    "ax.set_yticks(range(1,3,1))\n",
    "ax.scatter(x, y) "
   ]
  },
  {
   "cell_type": "markdown",
   "metadata": {},
   "source": [
    "### Step 1: Look into correlation between player salaries and player hustle score "
   ]
  },
  {
   "cell_type": "code",
   "execution_count": null,
   "metadata": {
    "collapsed": false
   },
   "outputs": [],
   "source": [
    "salaryHustle = pd.merge(hustleStats, salaryTable, on=['Player', 'year'], how='inner')\n",
    "salaryHustle.head()"
   ]
  },
  {
   "cell_type": "code",
   "execution_count": null,
   "metadata": {
    "collapsed": false
   },
   "outputs": [],
   "source": [
    "scatter = salaryHustle.plot.scatter('HustleScore', 'salary')\n",
    "\n",
    "(m, b) = np.polyfit(salaryHustle['HustleScore'], salaryHustle['salary'], 1)\n",
    "# Calculate the actual best fit line \n",
    "regression_line = [(m*x)+b for x in salaryHustle['HustleScore']]\n",
    "scatter.plot(salaryHustle['HustleScore'], regression_line, color='red') \n",
    "correlation = np.corrcoef(salaryHustle['HustleScore'], salaryHustle['salary'])[0,1]\n",
    "\n",
    "# Label the plot\n",
    "scatter.set_title(\"Distribution of Hustle Scores Across Salary (2016-2018) with r = \" + str(round(correlation,2)))"
   ]
  },
  {
   "cell_type": "markdown",
   "metadata": {},
   "source": [
    "## Part 5: Predicting Points Per Game"
   ]
  },
  {
   "cell_type": "markdown",
   "metadata": {},
   "source": [
    "Get table with all the hustle stats and the points for each player for linear regression."
   ]
  },
  {
   "cell_type": "code",
   "execution_count": null,
   "metadata": {
    "collapsed": false
   },
   "outputs": [],
   "source": [
    "hustleStatsWithPTS = hustleStats.merge(regularStats[['Player', 'PTS', 'year']], on=['Player', 'year'], how='left')\n",
    "hustleStatsWithPTS = hustleStatsWithPTS.dropna()\n",
    "hustleStatsWithPTS = hustleStatsWithPTS.sort_values(by=['year', 'PTS'], ascending=False)\n",
    "hustleStatsWithPTS.head()"
   ]
  },
  {
   "cell_type": "markdown",
   "metadata": {},
   "source": [
    "### Step 1: Player Point Prediction based on Base Hustle Scores\n",
    "We try to predict how many points a player gets based on his base hustle stats, where base hustle stats are the individual statistics from the NBA's website that we used to calculate our hustle score."
   ]
  },
  {
   "cell_type": "code",
   "execution_count": null,
   "metadata": {
    "collapsed": true
   },
   "outputs": [],
   "source": [
    "baseHustleReg = LinearRegression()\n",
    "baseHustleReg = baseHustleReg.fit(hustleStatsWithPTS[['ScreenAssists', 'Deflections', 'Loose BallsRecovered', 'ChargesDrawn', 'ContestedShots']], hustleStatsWithPTS['PTS'])"
   ]
  },
  {
   "cell_type": "code",
   "execution_count": null,
   "metadata": {
    "collapsed": true
   },
   "outputs": [],
   "source": [
    "hustleStatsWithPTS['residuals'] = hustleStatsWithPTS['PTS'] - baseHustleReg.predict(hustleStatsWithPTS[['ScreenAssists', 'Deflections', 'Loose BallsRecovered', 'ChargesDrawn', 'ContestedShots']])"
   ]
  },
  {
   "cell_type": "code",
   "execution_count": null,
   "metadata": {
    "collapsed": false
   },
   "outputs": [],
   "source": [
    "baseHustleViolin = sns.violinplot(x=\"Team\", y=\"residuals\", data=hustleStatsWithPTS)\n",
    "baseHustleViolin.set_title(\"Residuals for predictions of points per game per player based on hustle stats by team\")"
   ]
  },
  {
   "cell_type": "markdown",
   "metadata": {},
   "source": [
    "In the above plot we see residuals of our predictive model. Ideally we want want the widest part of each violin to be closest to zero. This is true for some teams (e.g. CLE, DET, DEN, CHI, etc.). However, many teams have very high residuals, and have very thin violins, showing that for many of their players the base hustle stats don't effectively predict the number of points they score in a game."
   ]
  },
  {
   "cell_type": "markdown",
   "metadata": {},
   "source": [
    "### Step 2: Player Point Prediction based on Calculated Hustle Score\n",
    "We then try to predict the number of points each player scores per game based on our calculated hustle score. We postulate that the results of this regression will be better because in our hustle score we standardized each parameter. This is different from Part 1 becuase in Part 1 we took raw hustle scores without standardization."
   ]
  },
  {
   "cell_type": "code",
   "execution_count": null,
   "metadata": {
    "collapsed": true
   },
   "outputs": [],
   "source": [
    "hustleReg = LinearRegression()\n",
    "hustleReg.fit(hustleStatsWithPTS[['HustleScore']],hustleStatsWithPTS['PTS'])\n",
    "hustleStatsWithPTS['hustleResidual'] = hustleStatsWithPTS['PTS'] - hustleReg.predict(hustleStatsWithPTS[['HustleScore']])"
   ]
  },
  {
   "cell_type": "code",
   "execution_count": null,
   "metadata": {
    "collapsed": false
   },
   "outputs": [],
   "source": [
    "hustleViolin = sns.violinplot(x=\"Team\", y=\"hustleResidual\", data=hustleStatsWithPTS)\n",
    "hustleViolin.set_title(\"Residuals for calculated hustles score predictive model by team\")"
   ]
  },
  {
   "cell_type": "markdown",
   "metadata": {},
   "source": [
    "We see higher residuals in this plot than in the previous one. This could be because our hustle score doesn't predict points well."
   ]
  },
  {
   "cell_type": "markdown",
   "metadata": {},
   "source": [
    "### Step 3: Using the regular statistics to predict player points"
   ]
  },
  {
   "cell_type": "code",
   "execution_count": null,
   "metadata": {
    "collapsed": false
   },
   "outputs": [],
   "source": [
    "# Merge the team column into the regular stats table\n",
    "regularStatsWithTeam = regularStats.merge(hustleStats[['Player', 'Team', 'year']], on=['Player', 'year']).drop(['#'], axis=1)\n",
    "#regularStatsWithWins = regularStatsWithWins.groupby(['Team']).sum().merge(teamTable, on=['Team'])\n",
    "regularStatsWithTeam = regularStatsWithTeam.drop(['GP', 'MIN'], axis=1)\n",
    "regularStatsWithTeam.head()"
   ]
  },
  {
   "cell_type": "code",
   "execution_count": null,
   "metadata": {
    "collapsed": false
   },
   "outputs": [],
   "source": [
    "regularStatsReg = LinearRegression()\n",
    "regularStatsReg.fit(regularStatsWithTeam[['REB', 'AST', 'STL', 'BLK', 'TOV']], regularStatsWithTeam['PTS'])"
   ]
  },
  {
   "cell_type": "code",
   "execution_count": null,
   "metadata": {
    "collapsed": false
   },
   "outputs": [],
   "source": [
    "regularStatsWithTeam['residuals'] = regularStatsWithTeam['PTS'] - regularStatsReg.predict(regularStatsWithTeam[['REB', 'AST', 'STL', 'BLK', 'TOV']])\n",
    "violin = sns.violinplot(x=\"Team\", y=\"residuals\", data=regularStatsWithTeam)"
   ]
  },
  {
   "cell_type": "markdown",
   "metadata": {},
   "source": [
    "The above plot shows the prediction of each player's points based solely on their standard statistics per team. As with our earlier plot, some player's statistics are predicted really well by their regular stats, while others are not."
   ]
  },
  {
   "cell_type": "markdown",
   "metadata": {},
   "source": [
    "### Step 4: Incorporating the Hustle Score"
   ]
  },
  {
   "cell_type": "code",
   "execution_count": null,
   "metadata": {
    "collapsed": false
   },
   "outputs": [],
   "source": [
    "# Merge calculated hustle stat into regular stats table\n",
    "allStats = regularStatsWithTeam.merge(hustleStats[['Player', 'year', 'HustleScore']], on=['Player', 'year'])\n",
    "allStats = allStats.dropna()\n",
    "allStats.head()"
   ]
  },
  {
   "cell_type": "code",
   "execution_count": null,
   "metadata": {
    "collapsed": false
   },
   "outputs": [],
   "source": [
    "# Perform the same regression as earlier but with the added hustle score column\n",
    "hustleRegularStatsReg = LinearRegression()\n",
    "hustleRegularStatsReg.fit(allStats[['REB', 'AST', 'STL', 'BLK', 'TOV', 'HustleScore']], allStats['PTS'])"
   ]
  },
  {
   "cell_type": "code",
   "execution_count": null,
   "metadata": {
    "collapsed": false
   },
   "outputs": [],
   "source": [
    "allStats['residuals'] = allStats['PTS'] - hustleRegularStatsReg.predict(allStats[['REB', 'AST', 'STL', 'BLK', 'TOV', 'HustleScore']])\n",
    "violin = sns.violinplot(x=\"Team\", y=\"residuals\", data=allStats)\n",
    "violin.set_title(\"Residuals of predictive model using regular statistics with hustle score\")"
   ]
  },
  {
   "cell_type": "markdown",
   "metadata": {},
   "source": [
    "As we see here, the hustle score slightly improves the player points per game prediction."
   ]
  },
  {
   "cell_type": "markdown",
   "metadata": {},
   "source": [
    "## Part 6: Predicting Wins\n",
    "We first try to see if points predict wins."
   ]
  },
  {
   "cell_type": "code",
   "execution_count": null,
   "metadata": {
    "collapsed": false
   },
   "outputs": [],
   "source": [
    "hustleStatsWithWins = hustleStats.groupby(['Team', 'year']).sum().merge(teamWinsTable, on=['Team', 'year'])\n",
    "hustleWinsReg = LinearRegression()\n",
    "hustleWinsReg.fit(hustleStatsWithWins[['HustleScore']], hustleStatsWithWins['Wins'])"
   ]
  },
  {
   "cell_type": "code",
   "execution_count": null,
   "metadata": {
    "collapsed": false,
    "scrolled": false
   },
   "outputs": [],
   "source": [
    "hustleStatsWithWins['residuals'] = hustleStatsWithWins['Wins'] - hustleWinsReg.predict(hustleStatsWithWins[['HustleScore']])\n",
    "hustleStatsWithWins.boxplot(column=['residuals'], by='year')"
   ]
  },
  {
   "cell_type": "markdown",
   "metadata": {},
   "source": [
    "As seen in the plot above, hustle score does an OK job of predicting wins for a team, especially in 2016-17."
   ]
  },
  {
   "cell_type": "code",
   "execution_count": null,
   "metadata": {
    "collapsed": true
   },
   "outputs": [],
   "source": []
  }
 ],
 "metadata": {
  "kernelspec": {
   "display_name": "Python 3",
   "language": "python",
   "name": "python3"
  },
  "language_info": {
   "codemirror_mode": {
    "name": "ipython",
    "version": 3
   },
   "file_extension": ".py",
   "mimetype": "text/x-python",
   "name": "python",
   "nbconvert_exporter": "python",
   "pygments_lexer": "ipython3",
   "version": "3.5.1"
  }
 },
 "nbformat": 4,
 "nbformat_minor": 2
}
