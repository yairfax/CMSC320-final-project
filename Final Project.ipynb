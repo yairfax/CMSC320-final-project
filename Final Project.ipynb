{
 "cells": [
  {
   "cell_type": "markdown",
   "metadata": {},
   "source": [
    "# HustleBall — Do Hustle Statistics in the NBA Matter?\n",
    "### By Yonatan Klausner, Yair Fax, and Jonathan Rawson\n",
    "\n",
    "#### Published: December 4, 2018\n",
    "\n",
    "## Table of Contents\n",
    "1. **Introduction**  \n",
    "    A. Previous Work\n",
    "2. **Data Scraping**  \n",
    "    A. Define Functions for Obtaining Data  \n",
    "    B. Obtain Hustle Data on Players  \n",
    "    C. Obtain Data for Regular Statistics on Players  \n",
    "    D. Obtain Data for Positions of Players  \n",
    "    E. Obtain Data for Team Wins  \n",
    "    F. Obtain Data for Salaries of Players  \n",
    "    G. Obtain Data for Team Statistics  \n",
    "3. **Clean Data**  \n",
    "    A. Clean Hustle and Position Data  \n",
    "    B. Clean Team Wins Data  \n",
    "    C. Clean Salary Data  \n",
    "4. **Calculate HustleScore**  \n",
    "    A. Statistics Used in Calculation  \n",
    "    B. Calculation   \n",
    "5. **Look for Potential Correlation between HustleScore and Other Statistics**    \n",
    "    A. Age vs. HustleScore  \n",
    "    B. Minutes Played vs. HustleScore  \n",
    "    C. Positions vs. HustleScore  \n",
    "    D. HustleScore per Position between Top and Bottom Teams  \n",
    "    E. Player Salary vs. HustleScore  \n",
    "6. **Predictions**    \n",
    "    A. Predicting Player Points with HustleScore    \n",
    "    B. Predicting Player Points with Regular Statistics  \n",
    "    C. Predicting Player Points with Regular Statistics and HustleScore  \n",
    "    D. Predicting Team Wins with HustleScore  \n",
    "7. **There's no \"I\" in Team**  \n",
    "    A. Plotting Team HustleScore vs. Wins  \n",
    "    B. Top Teams vs. Bottom Teams  \n",
    "8. **Conclusion**"
   ]
  },
  {
   "cell_type": "markdown",
   "metadata": {},
   "source": [
    "## 1. Introduction\n",
    "As an [article](http://grantland.com/features/the-economics-moneyball/) in Grantland, a sports blog, puts it: \"The Moneyball thesis is simple: Using statistical analysis, small-market teams can compete by buying assets that are undervalued by other teams and selling ones that are overvalued by other teams.\"\n",
    "The key to Moneyball is figuring out how to know when a player is \"undervalued.\"  \n",
    "\n",
    "For our project, we will be looking at statistics from the National Basketball Association ([NBA](http://www.nba.com)). \n",
    "Among other statistics, we will mainly be looking at statistics that involve some sort of hustling. Hustle statistics try to measure how much effort a player puts in, meaning how hard they play. These statistics include screen assists, deflections, loose balls recovered, charges drawn, contested shots, steals, and offensive rebounds, which we will explain in detail below.  We would like to find some sort of correlation between a hustle score that we calculate ourselves and other statistics.  Ideally, our findings will help teams seek specific players due to their hustle scores. ([Read more](https://stats.nba.com/articles/dig-deeper-into-the-game-with-new-defensive-and-hustle-data/) about hustle statistics.)\n",
    "\n",
    "### 1.A Previous Work\n",
    "While research has been done related to normal statistics in the NBA (e.g. points per game, assists per game, field goal percentage, rebounds per game) little work has been done related to hustle statistics.  Igor Stančin and Alan Jović of the University of Zagreb published a [paper](https://bib.irb.hr/datoteka/939840.MIPRO_2018_Stancin_Jovic_final_revised.pdf) looking into the differences between winning teams and losing teams for several hustle statistics. However, they did not calculate a total hustle score for a player or for a team. Mark White and Kennon Sheldon published a [paper](https://link-springer-com.proxy-um.researchport.umd.edu/article/10.1007/s11031-013-9389-7) looking at players' performance before, during, and after their contract years. While they did look at several normal NBA statistics, they did not incorporate advanced hustle statistics into their paper. Landon Drew Laporte wrote a [paper](https://repository.lib.ncsu.edu/bitstream/handle/1840.20/33510/etd.pdf?sequence=1) researching hustling in basketball. While his paper does go in depth on how to identify hustlers and how to predict hustling, he does not look for correlation with other statistics.  \n",
    "\n",
    "Additionally, the hustle statistics from the NBA have only existed since the beginning of the 2016-2017 season. Therefore, not a lot of work has been done concerning them. In our project we try to find significance in the NBA's hustle statistics."
   ]
  },
  {
   "cell_type": "code",
   "execution_count": 2,
   "metadata": {},
   "outputs": [],
   "source": [
    "# Imports needed for project \n",
    "from bs4 import BeautifulSoup\n",
    "from selenium import webdriver\n",
    "from selenium.webdriver.common.by import By\n",
    "import requests\n",
    "import pandas as pd\n",
    "import numpy as np\n",
    "import pylab as pl\n",
    "%matplotlib inline\n",
    "from IPython.core.pylabtools import figsize\n",
    "import matplotlib.pyplot as plt\n",
    "from sklearn.linear_model import LinearRegression\n",
    "import seaborn as sns"
   ]
  },
  {
   "cell_type": "code",
   "execution_count": 3,
   "metadata": {},
   "outputs": [],
   "source": [
    "figsize(14, 7)"
   ]
  },
  {
   "cell_type": "markdown",
   "metadata": {},
   "source": [
    "## 2. Data Scraping\n",
    "In this section we get all the data that we will be using for our project."
   ]
  },
  {
   "cell_type": "markdown",
   "metadata": {},
   "source": [
    "### 2.A Define Functions for Obtaining Data"
   ]
  },
  {
   "cell_type": "markdown",
   "metadata": {},
   "source": [
    "These functions get statistics from [NBA.com](http://nba.com). We use an automated browser (read more [here](https://webkit.org/blog/6900/webdriver-support-in-safari-10/)) instead of a simple get request because the HTML is not fully populated in the request. The scripts on the page populate the table's data. We use JavaScript in the browser to edit elements of the page so that we can simulate clicks to display the full table. We then pull the HTML from the page and pass it to Pandas to create a dataframe."
   ]
  },
  {
   "cell_type": "code",
   "execution_count": 4,
   "metadata": {},
   "outputs": [],
   "source": [
    "def getHustleStats(year):\n",
    "    return getYearStats(\"https://stats.nba.com/players/hustle/?sort=MIN&dir=-1&Season=\" + year + \"&SeasonType=Regular%20Season\", year)\n",
    "\n",
    "def getRegularStats(year):\n",
    "    return getYearStats(\"https://stats.nba.com/leaders/?Season=\" + year + \"&SeasonType=Regular%20Season\", year)\n",
    "\n",
    "def getYearStats(url, year):\n",
    "    # Use an automated browser so that the webpage is rendered properly\n",
    "    browser = webdriver.Safari()\n",
    "    browser.get(url)\n",
    "    \n",
    "    # Edit HTML so that we can get the whole table\n",
    "    browser.execute_script('document.getElementsByClassName(\"stats-table-pagination__select\")[0].setAttribute(\"id\", \"btn\")')\n",
    "    browser.execute_script('document.getElementById(\"btn\").children[0].setAttribute(\"id\", \"select-all\")')\n",
    "    nextButton = browser.find_element_by_id('btn')\n",
    "    allButton = browser.find_element_by_id('select-all')\n",
    "    \n",
    "    # Click on buttons to get whole table\n",
    "    nextButton.click()\n",
    "    allButton.click()\n",
    "    \n",
    "    # Get HTML and parse\n",
    "    innerHTML = browser.execute_script(\"return document.body.innerHTML\")\n",
    "    root = BeautifulSoup(innerHTML, \"lxml\")\n",
    "    table = pd.read_html(str(root.find(\"table\")))\n",
    "    table = table[0]\n",
    "    \n",
    "    # Add year column for later table merging\n",
    "    table['year'] = year\n",
    "    browser.close()\n",
    "    return table"
   ]
  },
  {
   "cell_type": "markdown",
   "metadata": {},
   "source": [
    "This function uses a simple get request for a specific year to get data about players' positions."
   ]
  },
  {
   "cell_type": "code",
   "execution_count": 5,
   "metadata": {},
   "outputs": [],
   "source": [
    "def getPositions(year):\n",
    "    url = \"https://www.basketball-reference.com/leagues/NBA_\" + str(year) + \"_per_game.html\"\n",
    "    r = requests.get(url)\n",
    "    root = BeautifulSoup(r.content, \"lxml\")\n",
    "    data = root.find(\"table\")\n",
    "    positions_table = pd.read_html(str(data))[0]\n",
    "    # Add year column for later table merging\n",
    "    positions_table['year'] = str(year - 1) + \"-\" + str(year - 2000)\n",
    "    return positions_table"
   ]
  },
  {
   "cell_type": "markdown",
   "metadata": {},
   "source": [
    "These functions read CSV files stored on our git repository."
   ]
  },
  {
   "cell_type": "code",
   "execution_count": 6,
   "metadata": {},
   "outputs": [],
   "source": [
    "def getTeams(filename, year):\n",
    "    teamTable = pd.read_csv(filename)\n",
    "    # Add year column for later table merging\n",
    "    teamTable['year'] = year\n",
    "    return teamTable\n",
    "\n",
    "def getSalaries(filename):\n",
    "    salaryTable = pd.read_csv(filename)\n",
    "    return salaryTable"
   ]
  },
  {
   "cell_type": "markdown",
   "metadata": {},
   "source": [
    "### 2.B Obtain Hustle Data on Players\n",
    "This [data](https://stats.nba.com/players/hustle/?sort=MIN&dir=1&Season=2016-17&SeasonType=Regular%20Season) consists of several statistics that are related to player hustling. Due to the fact that these advanced statistics have only been available since the 2016-2017 season, we will only be using 2 seasons of data (2016-2017 and 2017-2018)."
   ]
  },
  {
   "cell_type": "code",
   "execution_count": 7,
   "metadata": {},
   "outputs": [
    {
     "ename": "WebDriverException",
     "evalue": "Message: \n",
     "output_type": "error",
     "traceback": [
      "\u001b[0;31m---------------------------------------------------------------------------\u001b[0m",
      "\u001b[0;31mWebDriverException\u001b[0m                        Traceback (most recent call last)",
      "\u001b[0;32m<ipython-input-7-92ed3e8a07e9>\u001b[0m in \u001b[0;36m<module>\u001b[0;34m()\u001b[0m\n\u001b[1;32m      1\u001b[0m \u001b[0;31m# Use our getHustleStats function to get the hustle stats for each year\u001b[0m\u001b[0;34m\u001b[0m\u001b[0;34m\u001b[0m\u001b[0m\n\u001b[0;32m----> 2\u001b[0;31m \u001b[0mhustle16_17\u001b[0m \u001b[0;34m=\u001b[0m \u001b[0mgetHustleStats\u001b[0m\u001b[0;34m(\u001b[0m\u001b[0;34m\"2016-17\"\u001b[0m\u001b[0;34m)\u001b[0m\u001b[0;34m\u001b[0m\u001b[0m\n\u001b[0m\u001b[1;32m      3\u001b[0m \u001b[0mhustle17_18\u001b[0m \u001b[0;34m=\u001b[0m \u001b[0mgetHustleStats\u001b[0m\u001b[0;34m(\u001b[0m\u001b[0;34m\"2017-18\"\u001b[0m\u001b[0;34m)\u001b[0m\u001b[0;34m\u001b[0m\u001b[0m\n",
      "\u001b[0;32m<ipython-input-4-d9fd97718f96>\u001b[0m in \u001b[0;36mgetHustleStats\u001b[0;34m(year)\u001b[0m\n\u001b[1;32m      1\u001b[0m \u001b[0;32mdef\u001b[0m \u001b[0mgetHustleStats\u001b[0m\u001b[0;34m(\u001b[0m\u001b[0myear\u001b[0m\u001b[0;34m)\u001b[0m\u001b[0;34m:\u001b[0m\u001b[0;34m\u001b[0m\u001b[0m\n\u001b[0;32m----> 2\u001b[0;31m     \u001b[0;32mreturn\u001b[0m \u001b[0mgetYearStats\u001b[0m\u001b[0;34m(\u001b[0m\u001b[0;34m\"https://stats.nba.com/players/hustle/?sort=MIN&dir=-1&Season=\"\u001b[0m \u001b[0;34m+\u001b[0m \u001b[0myear\u001b[0m \u001b[0;34m+\u001b[0m \u001b[0;34m\"&SeasonType=Regular%20Season\"\u001b[0m\u001b[0;34m,\u001b[0m \u001b[0myear\u001b[0m\u001b[0;34m)\u001b[0m\u001b[0;34m\u001b[0m\u001b[0m\n\u001b[0m\u001b[1;32m      3\u001b[0m \u001b[0;34m\u001b[0m\u001b[0m\n\u001b[1;32m      4\u001b[0m \u001b[0;32mdef\u001b[0m \u001b[0mgetRegularStats\u001b[0m\u001b[0;34m(\u001b[0m\u001b[0myear\u001b[0m\u001b[0;34m)\u001b[0m\u001b[0;34m:\u001b[0m\u001b[0;34m\u001b[0m\u001b[0m\n\u001b[1;32m      5\u001b[0m     \u001b[0;32mreturn\u001b[0m \u001b[0mgetYearStats\u001b[0m\u001b[0;34m(\u001b[0m\u001b[0;34m\"https://stats.nba.com/leaders/?Season=\"\u001b[0m \u001b[0;34m+\u001b[0m \u001b[0myear\u001b[0m \u001b[0;34m+\u001b[0m \u001b[0;34m\"&SeasonType=Regular%20Season\"\u001b[0m\u001b[0;34m,\u001b[0m \u001b[0myear\u001b[0m\u001b[0;34m)\u001b[0m\u001b[0;34m\u001b[0m\u001b[0m\n",
      "\u001b[0;32m<ipython-input-4-d9fd97718f96>\u001b[0m in \u001b[0;36mgetYearStats\u001b[0;34m(url, year)\u001b[0m\n\u001b[1;32m      8\u001b[0m     \u001b[0;31m# Use an automated browser so that the webpage is rendered properly\u001b[0m\u001b[0;34m\u001b[0m\u001b[0;34m\u001b[0m\u001b[0m\n\u001b[1;32m      9\u001b[0m     \u001b[0mbrowser\u001b[0m \u001b[0;34m=\u001b[0m \u001b[0mwebdriver\u001b[0m\u001b[0;34m.\u001b[0m\u001b[0mSafari\u001b[0m\u001b[0;34m(\u001b[0m\u001b[0;34m)\u001b[0m\u001b[0;34m\u001b[0m\u001b[0m\n\u001b[0;32m---> 10\u001b[0;31m     \u001b[0mbrowser\u001b[0m\u001b[0;34m.\u001b[0m\u001b[0mget\u001b[0m\u001b[0;34m(\u001b[0m\u001b[0murl\u001b[0m\u001b[0;34m)\u001b[0m\u001b[0;34m\u001b[0m\u001b[0m\n\u001b[0m\u001b[1;32m     11\u001b[0m \u001b[0;34m\u001b[0m\u001b[0m\n\u001b[1;32m     12\u001b[0m     \u001b[0;31m# Edit HTML so that we can get the whole table\u001b[0m\u001b[0;34m\u001b[0m\u001b[0;34m\u001b[0m\u001b[0m\n",
      "\u001b[0;32m/usr/local/lib/python3.7/site-packages/selenium/webdriver/remote/webdriver.py\u001b[0m in \u001b[0;36mget\u001b[0;34m(self, url)\u001b[0m\n\u001b[1;32m    331\u001b[0m         \u001b[0mLoads\u001b[0m \u001b[0ma\u001b[0m \u001b[0mweb\u001b[0m \u001b[0mpage\u001b[0m \u001b[0;32min\u001b[0m \u001b[0mthe\u001b[0m \u001b[0mcurrent\u001b[0m \u001b[0mbrowser\u001b[0m \u001b[0msession\u001b[0m\u001b[0;34m.\u001b[0m\u001b[0;34m\u001b[0m\u001b[0m\n\u001b[1;32m    332\u001b[0m         \"\"\"\n\u001b[0;32m--> 333\u001b[0;31m         \u001b[0mself\u001b[0m\u001b[0;34m.\u001b[0m\u001b[0mexecute\u001b[0m\u001b[0;34m(\u001b[0m\u001b[0mCommand\u001b[0m\u001b[0;34m.\u001b[0m\u001b[0mGET\u001b[0m\u001b[0;34m,\u001b[0m \u001b[0;34m{\u001b[0m\u001b[0;34m'url'\u001b[0m\u001b[0;34m:\u001b[0m \u001b[0murl\u001b[0m\u001b[0;34m}\u001b[0m\u001b[0;34m)\u001b[0m\u001b[0;34m\u001b[0m\u001b[0m\n\u001b[0m\u001b[1;32m    334\u001b[0m \u001b[0;34m\u001b[0m\u001b[0m\n\u001b[1;32m    335\u001b[0m     \u001b[0;34m@\u001b[0m\u001b[0mproperty\u001b[0m\u001b[0;34m\u001b[0m\u001b[0m\n",
      "\u001b[0;32m/usr/local/lib/python3.7/site-packages/selenium/webdriver/remote/webdriver.py\u001b[0m in \u001b[0;36mexecute\u001b[0;34m(self, driver_command, params)\u001b[0m\n\u001b[1;32m    319\u001b[0m         \u001b[0mresponse\u001b[0m \u001b[0;34m=\u001b[0m \u001b[0mself\u001b[0m\u001b[0;34m.\u001b[0m\u001b[0mcommand_executor\u001b[0m\u001b[0;34m.\u001b[0m\u001b[0mexecute\u001b[0m\u001b[0;34m(\u001b[0m\u001b[0mdriver_command\u001b[0m\u001b[0;34m,\u001b[0m \u001b[0mparams\u001b[0m\u001b[0;34m)\u001b[0m\u001b[0;34m\u001b[0m\u001b[0m\n\u001b[1;32m    320\u001b[0m         \u001b[0;32mif\u001b[0m \u001b[0mresponse\u001b[0m\u001b[0;34m:\u001b[0m\u001b[0;34m\u001b[0m\u001b[0m\n\u001b[0;32m--> 321\u001b[0;31m             \u001b[0mself\u001b[0m\u001b[0;34m.\u001b[0m\u001b[0merror_handler\u001b[0m\u001b[0;34m.\u001b[0m\u001b[0mcheck_response\u001b[0m\u001b[0;34m(\u001b[0m\u001b[0mresponse\u001b[0m\u001b[0;34m)\u001b[0m\u001b[0;34m\u001b[0m\u001b[0m\n\u001b[0m\u001b[1;32m    322\u001b[0m             response['value'] = self._unwrap_value(\n\u001b[1;32m    323\u001b[0m                 response.get('value', None))\n",
      "\u001b[0;32m/usr/local/lib/python3.7/site-packages/selenium/webdriver/remote/errorhandler.py\u001b[0m in \u001b[0;36mcheck_response\u001b[0;34m(self, response)\u001b[0m\n\u001b[1;32m    240\u001b[0m                 \u001b[0malert_text\u001b[0m \u001b[0;34m=\u001b[0m \u001b[0mvalue\u001b[0m\u001b[0;34m[\u001b[0m\u001b[0;34m'alert'\u001b[0m\u001b[0;34m]\u001b[0m\u001b[0;34m.\u001b[0m\u001b[0mget\u001b[0m\u001b[0;34m(\u001b[0m\u001b[0;34m'text'\u001b[0m\u001b[0;34m)\u001b[0m\u001b[0;34m\u001b[0m\u001b[0m\n\u001b[1;32m    241\u001b[0m             \u001b[0;32mraise\u001b[0m \u001b[0mexception_class\u001b[0m\u001b[0;34m(\u001b[0m\u001b[0mmessage\u001b[0m\u001b[0;34m,\u001b[0m \u001b[0mscreen\u001b[0m\u001b[0;34m,\u001b[0m \u001b[0mstacktrace\u001b[0m\u001b[0;34m,\u001b[0m \u001b[0malert_text\u001b[0m\u001b[0;34m)\u001b[0m\u001b[0;34m\u001b[0m\u001b[0m\n\u001b[0;32m--> 242\u001b[0;31m         \u001b[0;32mraise\u001b[0m \u001b[0mexception_class\u001b[0m\u001b[0;34m(\u001b[0m\u001b[0mmessage\u001b[0m\u001b[0;34m,\u001b[0m \u001b[0mscreen\u001b[0m\u001b[0;34m,\u001b[0m \u001b[0mstacktrace\u001b[0m\u001b[0;34m)\u001b[0m\u001b[0;34m\u001b[0m\u001b[0m\n\u001b[0m\u001b[1;32m    243\u001b[0m \u001b[0;34m\u001b[0m\u001b[0m\n\u001b[1;32m    244\u001b[0m     \u001b[0;32mdef\u001b[0m \u001b[0m_value_or_default\u001b[0m\u001b[0;34m(\u001b[0m\u001b[0mself\u001b[0m\u001b[0;34m,\u001b[0m \u001b[0mobj\u001b[0m\u001b[0;34m,\u001b[0m \u001b[0mkey\u001b[0m\u001b[0;34m,\u001b[0m \u001b[0mdefault\u001b[0m\u001b[0;34m)\u001b[0m\u001b[0;34m:\u001b[0m\u001b[0;34m\u001b[0m\u001b[0m\n",
      "\u001b[0;31mWebDriverException\u001b[0m: Message: \n"
     ]
    }
   ],
   "source": [
    "# Use our getHustleStats function to get the hustle stats for each year\n",
    "hustle16_17 = getHustleStats(\"2016-17\") \n",
    "hustle17_18 = getHustleStats(\"2017-18\")"
   ]
  },
  {
   "cell_type": "code",
   "execution_count": null,
   "metadata": {},
   "outputs": [],
   "source": [
    "# Concatenate hustle tables together\n",
    "hustleStats = hustle16_17.append(hustle17_18)\n",
    "hustleStats.head()"
   ]
  },
  {
   "cell_type": "markdown",
   "metadata": {},
   "source": [
    "### 2.C Obtain Data for Regular Statistics on Players \n",
    "This [data](https://stats.nba.com/leaders/?Season=2016-17&SeasonType=Regular%20Season) consists of several common player statistics, such as **MIN** (minutes per game), **PTS** (points per game), **FGM** (field goals made per game), and **REB** (rebounds per game)."
   ]
  },
  {
   "cell_type": "code",
   "execution_count": null,
   "metadata": {},
   "outputs": [],
   "source": [
    "# Get regular stats using our getRegularStats function and concatenate tables\n",
    "regular16_17 = getRegularStats(\"2016-17\") \n",
    "regular17_18 = getRegularStats(\"2017-18\")\n",
    "regularStats = regular16_17.append(regular17_18)\n",
    "regularStats.head()"
   ]
  },
  {
   "cell_type": "markdown",
   "metadata": {},
   "source": [
    "### 2.D Obtain Data for Positions of Players\n",
    "This [data](https://www.basketball-reference.com/leagues/NBA_2017_per_game.html) consists of the positions for each player.  The five positions are:\n",
    "1. **PG** - point guard\n",
    "2. **SG** - shooting guard\n",
    "3. **SF** - small forward \n",
    "4. **PF** - power forward\n",
    "5. **C** - center\n",
    "\n",
    "Typically, the **point guard** is the leader of the team when on the court. Being the point guard requires polished ball handling skills and the ability to facilitate the team during a play. The **shooting guard** is generally the best shooter and is usually capable of shooting from farther distances. Generally, they also have good ball-handling skills. The **small forward** often has an aggressive approach to the basket on offense. The **power forward** and the **center** are usually called \"low post\" players. They often act as their team's primary rebounders and shot blockers. In addition, they generally get the ball closer to the hoop to take inside shots. The **center** is typically the larger of the two. [Read more](https://www.basketballforcoaches.com/basketball-positions/) about the different positions in basketball."
   ]
  },
  {
   "cell_type": "code",
   "execution_count": null,
   "metadata": {},
   "outputs": [],
   "source": [
    "# Get position data from our getPositions function\n",
    "# We only need the player, position, and year from the table\n",
    "positions16_17 = getPositions(2017)[['Player', 'Pos', 'year']]\n",
    "positions17_18 = getPositions(2018)[['Player', 'Pos', 'year']]"
   ]
  },
  {
   "cell_type": "code",
   "execution_count": null,
   "metadata": {},
   "outputs": [],
   "source": [
    "# Concatenate tables together\n",
    "positionsTable = positions16_17.append(positions17_18)\n",
    "positionsTable.head()"
   ]
  },
  {
   "cell_type": "markdown",
   "metadata": {},
   "source": [
    "### 2.E Obtain Data for Team Wins "
   ]
  },
  {
   "cell_type": "markdown",
   "metadata": {},
   "source": [
    "This [data](https://github.com/yklausner/yklausner.github.io/blob/master/teams_2016_2017.csv) consists of team statistics related to wins and losses. We use this data to get the number of wins for a team in a given year."
   ]
  },
  {
   "cell_type": "code",
   "execution_count": null,
   "metadata": {},
   "outputs": [],
   "source": [
    "# Use our getTeams function to read from CSV files and concatenate together\n",
    "teamsWins16_17 = getTeams('teams_2016_2017.csv', '2016-17') \n",
    "teamsWins17_18 = getTeams('teams_2017_2018.csv', '2017-18')\n",
    "teamWinsTable = teamsWins16_17.append(teamsWins17_18)\n",
    "teamWinsTable.head()"
   ]
  },
  {
   "cell_type": "markdown",
   "metadata": {},
   "source": [
    "### 2.F Obtain Data for Salaries of Players"
   ]
  },
  {
   "cell_type": "markdown",
   "metadata": {},
   "source": [
    "This [data](https://data.world/datadavis/nba-salaries) consists of player salaries. "
   ]
  },
  {
   "cell_type": "code",
   "execution_count": null,
   "metadata": {},
   "outputs": [],
   "source": [
    "# Use our getSalaries function to read CSV file\n",
    "salaryTable = getSalaries('player_salaries.csv')\n",
    "salaryTable.head()"
   ]
  },
  {
   "cell_type": "markdown",
   "metadata": {},
   "source": [
    "### 2.G Obtain Data for Team Statistics"
   ]
  },
  {
   "cell_type": "markdown",
   "metadata": {},
   "source": [
    "This [data](https://github.com/yklausner/yklausner.github.io/blob/master/team_stats_2016_2017.csv) consists of aggregate player statistics for each team."
   ]
  },
  {
   "cell_type": "code",
   "execution_count": null,
   "metadata": {},
   "outputs": [],
   "source": [
    "# Use our getTeams function to read CSV files and concatenate tables\n",
    "teamStats_16_17 = getTeams(\"team_stats_2016_2017.csv\", '2016-17') \n",
    "teamStats_17_18 = getTeams(\"team_stats_2017_2018.csv\", '2017-18') \n",
    "teamStatsTable = teamStats_16_17.append(teamStats_17_18)\n",
    "teamStatsTable.head()"
   ]
  },
  {
   "cell_type": "markdown",
   "metadata": {},
   "source": [
    "## 3. Clean Data\n",
    "### 3.A Clean Hustle and Position Data\n",
    "After getting all the data needed for our project, we need to clean the data so that we are able to use each table easily (short, informative [read](https://medium.com/datadriveninvestor/data-cleaning-for-data-scientist-363fbbf87e5f) on cleaning data). \n",
    "\n",
    "First, we merge the hustleStats table and the positionsTable on the player and year columns in order to add the positions to the hustleStats table. We then print out any players in the merged table with a null position to see if any players were not assigned a position properly, meaning the two tables had different names for these players."
   ]
  },
  {
   "cell_type": "code",
   "execution_count": null,
   "metadata": {
    "scrolled": true
   },
   "outputs": [],
   "source": [
    "hustleStatsTemp = pd.merge(hustleStats, positionsTable, on=['Player', 'year'], how='left')\n",
    "# Print out all players with null position\n",
    "hustleStatsTemp[pd.isnull(hustleStatsTemp['Pos'])]"
   ]
  },
  {
   "cell_type": "markdown",
   "metadata": {},
   "source": [
    "As seen above, there are a number of players whose position was not set properly.  After looking closely into each case, we realized what was going wrong.\n",
    "1. For a number of the players, in one table they had a roman numeral added to the end of their name (e.g. \"II\") and not in the other table. For example, John Lucas III and John Lucas.  \n",
    "2. Some players in one table had suffixes such as \"Jr.\" and not in the other table. For example, Kelly Oubre Jr. and Kelly Oubre.  \n",
    "3. A number of players had non-alphabetical characters in their names in one table and not in the other table. For example, C.J. Watson and CJ Watson.   \n",
    "4. Taurean Prince — In one table he was named \"Taurean Prince\" and in the other table he was named \"Taurean Waller-Prince\".\n",
    "5. Nene — In one table he was named \"Nene\" and in the other table he was named \"Nene Hilario\". \n",
    "\n",
    "We also drop all duplicate rows.   "
   ]
  },
  {
   "cell_type": "code",
   "execution_count": null,
   "metadata": {},
   "outputs": [],
   "source": [
    "# Function to clean player names\n",
    "def stripChars(series):\n",
    "    # Use numpy string functions to strip unwanted characters from player names and return stripped name series\n",
    "    return series.str.replace('Jr\\.', '').str.replace('.', '').str.replace(',', '').str.replace('III', '').str.replace('II', '').str.replace('IV', '').str.rstrip()"
   ]
  },
  {
   "cell_type": "code",
   "execution_count": null,
   "metadata": {},
   "outputs": [],
   "source": [
    "positionsTable = positionsTable.drop_duplicates(subset=['Player', 'year'])\n",
    "# Clean player names \n",
    "positionsTable['Player'] = stripChars(positionsTable['Player'])\n",
    "positionsTable.loc[positionsTable['Player'] == 'Nene Hilario', 'Player'] = 'Nene'\n",
    "positionsTable.loc[positionsTable['Player'] == 'Taurean Waller-Prince', 'Player'] = 'Taurean Prince'\n",
    "positionsTable.head()"
   ]
  },
  {
   "cell_type": "markdown",
   "metadata": {},
   "source": [
    "After cleaning the data some more, we then merge the hustleStats table and the postionsTable again.  \n",
    "We then print the rows in the hustleStats that have a null position to see which player names are still inconsistent. "
   ]
  },
  {
   "cell_type": "code",
   "execution_count": null,
   "metadata": {},
   "outputs": [],
   "source": [
    "hustleStats['Player'] = stripChars(hustleStats['Player'])\n",
    "hustleStats = pd.merge(hustleStats, positionsTable, on=['Player', 'year'], how='left')\n",
    "hustleStats[pd.isnull(hustleStats['Pos'])]"
   ]
  },
  {
   "cell_type": "markdown",
   "metadata": {},
   "source": [
    "The above 5 players are only in one table.  Due to the fact that they are relatively insignificant we drop them. These players are missing at random ([MAR](https://www.theanalysisfactor.com/mar-and-mcar-missing-data/)) because the missing data concerns the observed data but not the missing data."
   ]
  },
  {
   "cell_type": "code",
   "execution_count": null,
   "metadata": {},
   "outputs": [],
   "source": [
    "hustleStats = hustleStats.dropna(subset=['Pos'])\n",
    "hustleStats.head()"
   ]
  },
  {
   "cell_type": "code",
   "execution_count": null,
   "metadata": {},
   "outputs": [],
   "source": [
    "# Get all position values\n",
    "hustleStats['Pos'].unique()"
   ]
  },
  {
   "cell_type": "markdown",
   "metadata": {},
   "source": [
    "Next, we clean the hustleStats table. \n",
    "1. Change the \"TEAM\" column to be named \"Team\"\n",
    "2. Change any player with two positions to have one position\n",
    "3. Drop unused columns \n",
    "4. Drop duplicate players within the same year "
   ]
  },
  {
   "cell_type": "code",
   "execution_count": null,
   "metadata": {},
   "outputs": [],
   "source": [
    "hustleStats = hustleStats.rename(columns = {'TEAM': 'Team'}) # Rename column \n",
    "# Change position of player from multiple positions to one\n",
    "hustleStats.loc[hustleStats['Pos'] == 'PG-SG', 'Pos'] = 'PG'\n",
    "hustleStats.loc[hustleStats['Pos'] == 'SF-SG', 'Pos'] = 'SF'\n",
    "hustleStats.loc[hustleStats['Pos'] == 'PF-C', 'Pos'] = 'PF'\n",
    "# Drop unused columns \n",
    "hustleStats = hustleStats.drop(['ScreenAssists PTS', 'OFF Loose BallsRecovered', 'DEF Loose BallsRecovered', '% Loose BallsRecovered OFF', '% Loose BallsRecovered DEF'], axis=1)\n",
    "hustleStats = hustleStats.drop_duplicates(subset=['Player', 'year'])\n",
    "hustleStats.head()"
   ]
  },
  {
   "cell_type": "code",
   "execution_count": null,
   "metadata": {},
   "outputs": [],
   "source": [
    "# Verify that no player has multiple positions\n",
    "hustleStats['Pos'].unique()"
   ]
  },
  {
   "cell_type": "markdown",
   "metadata": {},
   "source": [
    "### 3.B Clean Team Wins Data"
   ]
  },
  {
   "cell_type": "code",
   "execution_count": null,
   "metadata": {},
   "outputs": [],
   "source": [
    "# Drop unused columns \n",
    "teamWinsTable = teamWinsTable.drop(['L', 'Win%', 'GB', 'Conf', 'Div', 'Home', 'Road', 'OT', 'Last 10', 'Streak'], axis=1)\n",
    "teamWinsTable = teamWinsTable.rename(columns = {'W': 'Wins'}) # Rename column\n",
    "teamWinsTable.head()"
   ]
  },
  {
   "cell_type": "markdown",
   "metadata": {},
   "source": [
    "### 3.C Clean Salary Data  \n",
    "First, we get the data from the table that is from the 2016-17 season and from the 2017-18 season.  Then we drop unused columns and remove any duplicates.  Lastly, we rename the year column in each table to match those of our other tables.  "
   ]
  },
  {
   "cell_type": "code",
   "execution_count": null,
   "metadata": {},
   "outputs": [],
   "source": [
    "# Get data from desired seasons\n",
    "salaryTable = salaryTable[salaryTable['year'] >= 2017]\n",
    "\n",
    "# Drop unused columns\n",
    "salaryTable = salaryTable.drop(['team_name', 'season_end', 'team'], axis=1)\n",
    "# Drop duplicates\n",
    "salaryTable = salaryTable.drop_duplicates(subset=['Player', 'year'])\n",
    "\n",
    "# Rename year values\n",
    "salaryTable.loc[salaryTable['year'] == 2016, 'year'] = '2016-17'\n",
    "salaryTable.loc[salaryTable['year'] == 2017, 'year'] = '2017-18'\n",
    "salaryTable.head()"
   ]
  },
  {
   "cell_type": "markdown",
   "metadata": {},
   "source": [
    "All our data is now clean."
   ]
  },
  {
   "cell_type": "markdown",
   "metadata": {
    "collapsed": true
   },
   "source": [
    "## 4. Calculate HustleScore"
   ]
  },
  {
   "cell_type": "markdown",
   "metadata": {},
   "source": [
    "### 4.A Statistics Used in Calculation\n",
    "\n",
    "The statistics we will use to calculate our hustle score are:  \n",
    "\n",
    "1. **Screen Assists** — A screen assist is a [screen](https://www.coachesclipboard.net/Screens.html) that directly leads to a made field goal.  \n",
    "\n",
    "2. **Deflections** — A deflection occurs when a defensive player redirects the intended direction of the ball.\n",
    "\n",
    "3. **Loose Balls Recovered** — A loose ball is when neither team is in control of the ball.  A loose ball recovered is when a player recovers a loose ball.   \n",
    "\n",
    "4. **Charges Drawn** — A [charge](http://www.playsportstv.com/basketball/basketball-rules_fouls_the-charge), or player-control foul, occurs when a dribbler charges into a defender who has already established his position.  When a defender takes a charge on an offensive player, the defensive player is awarded a drawn charge.  \n",
    "\n",
    "5. **Contested Shots** — A contested shot is when a defender is within 4 feet of the person shooting. \n",
    "\n",
    "6. **Steals** — A [steal](https://www.sportslingo.com/sports-glossary/s/steal-basketball/) is when a defender legally causes a turnover by his positive, defensive actions.   \n",
    "\n",
    "7. **Offensive Rebounds** — An offensive rebound is when an offensive player secures a rebound.\n",
    "\n",
    "These stastics are all hustle related. We believe that players who hustle more generally have higher values for these statistics. Therefore, these are the 7 statistics we use to calculate our hustle score."
   ]
  },
  {
   "cell_type": "markdown",
   "metadata": {},
   "source": [
    "### 4.B Calculation \n",
    "\n",
    "In order to calculate our hustle score, we will use the sum of screen assists, deflections, loose balls recovered, charges drawn, contested shots, steals, and offensive rebounds.  However, if we just took the sum of those statistics for each player, certain statistics, such as contested shots, would effect the overall hustle score more than others because that statistic is generally higher than the others.  Therefore, we normalize each statistic by dividing its value by the maximum for that specific statistic. Finally, we calculate this hustle score on a per 36-minute basis, which is normal when calculating statistics in basketball. ([Read more](https://bleacherreport.com/articles/657235-the-value-of-per-36-statistics-and-future-breakthrough-stars#slide0) on per 36-minute statistics.)"
   ]
  },
  {
   "cell_type": "code",
   "execution_count": null,
   "metadata": {},
   "outputs": [],
   "source": [
    "# Merge offensive rebounds and steals into hustleStats table for HustleScore calculation\n",
    "hustleStats = hustleStats.merge(regularStats[['Player', 'year', 'OREB', 'STL']], on=['Player', 'year'])\n",
    "hustleStats.head()"
   ]
  },
  {
   "cell_type": "code",
   "execution_count": null,
   "metadata": {},
   "outputs": [],
   "source": [
    "# Calculate maximums to normalize aggregate hustle statistic\n",
    "maxScreenAssists = hustleStats['ScreenAssists'].max()\n",
    "maxDeflections = hustleStats['Deflections'].max()\n",
    "maxLooseBallsRecovered = hustleStats['Loose BallsRecovered'].max()\n",
    "maxChargesDrawn = hustleStats['ChargesDrawn'].max()\n",
    "maxContestedShots = hustleStats['ContestedShots'].max()\n",
    "maxOREB = hustleStats['OREB'].max()\n",
    "maxSTL = hustleStats['STL'].max()\n",
    "print(\"maxScreenAssists per game: \\t\\t\" + str(maxScreenAssists))\n",
    "print(\"maxDeflections per game: \\t\\t\" + str(maxDeflections))\n",
    "print(\"maxLooseBallsRecovered per game: \\t\" + str(maxLooseBallsRecovered))\n",
    "print(\"maxChargesDrawn per game: \\t\\t\" + str(maxChargesDrawn))\n",
    "print(\"maxContestedShots per game: \\t\\t\" + str(maxContestedShots))\n",
    "print(\"maxOffensiveRebound per game: \\t\\t\" + str(maxOREB))\n",
    "print(\"maxSteals per game: \\t\\t\\t\" + str(maxSTL))"
   ]
  },
  {
   "cell_type": "code",
   "execution_count": null,
   "metadata": {},
   "outputs": [],
   "source": [
    "# Calculate and add HustleScore to hustleStats table \n",
    "hustleStats['HustleScore'] = 36*(hustleStats['ScreenAssists']/maxScreenAssists + hustleStats['Deflections']/maxDeflections + hustleStats['Loose BallsRecovered']/maxLooseBallsRecovered + hustleStats['ChargesDrawn']/maxChargesDrawn + hustleStats['ContestedShots']/maxContestedShots + hustleStats['OREB']/maxOREB + hustleStats['STL']/maxSTL)/(hustleStats['MIN'])\n",
    "hustleStats.head()"
   ]
  },
  {
   "cell_type": "markdown",
   "metadata": {},
   "source": [
    "## 5. Look for Potential Correlation between HustleScore and Other Statistics\n",
    "### 5.A Age vs. HustleScore\n",
    "We hypothesize that younger players hustle more."
   ]
  },
  {
   "cell_type": "code",
   "execution_count": null,
   "metadata": {},
   "outputs": [],
   "source": [
    "scatter = hustleStats.plot.scatter('AGE', 'HustleScore')\n",
    "\n",
    "(m, b) = np.polyfit(hustleStats['AGE'], hustleStats['HustleScore'], 1)\n",
    "# Calculate the actual best fit line \n",
    "regression_line = [(m*x)+b for x in hustleStats['AGE']]\n",
    "scatter.plot(hustleStats['AGE'], regression_line, color='red') \n",
    "\n",
    "# Calculate the correlation coefficient r \n",
    "correlation = np.corrcoef(hustleStats['HustleScore'], hustleStats['AGE'])[0,1]\n",
    "\n",
    "# Label the plot\n",
    "scatter.set_title(\"Distribution of Hustle Scores Across Age with r = \" + str(round(correlation,2)))\n",
    "scatter.set_xlabel(\"Age\")\n",
    "scatter.set_ylabel(\"Hustle Scores\")"
   ]
  },
  {
   "cell_type": "markdown",
   "metadata": {},
   "source": [
    "The above plot shows basically no correlation between age and hustle scores."
   ]
  },
  {
   "cell_type": "markdown",
   "metadata": {},
   "source": [
    "### 5.B Minutes Played vs. HustleScore\n",
    "We hypothesize that players who play fewer minutes per game hustle more because they will have more energy than players who play more."
   ]
  },
  {
   "cell_type": "code",
   "execution_count": null,
   "metadata": {},
   "outputs": [],
   "source": [
    "scatter = hustleStats.plot.scatter('MIN', 'HustleScore')\n",
    "\n",
    "(m, b) = np.polyfit(hustleStats['MIN'], hustleStats['HustleScore'], 1)\n",
    "# Calculate the actual best fit line \n",
    "regression_line = [(m*x)+b for x in hustleStats['MIN']]\n",
    "scatter.plot(hustleStats['MIN'], regression_line, color='red') \n",
    "\n",
    "# Calculate the correlation coefficient r \n",
    "correlation = np.corrcoef(hustleStats['HustleScore'], hustleStats['MIN'])[0,1]\n",
    "\n",
    "# Label the plot\n",
    "scatter.set_title(\"Distribution of Hustle Scores Across Minutes Per Game with r = \" + str(round(correlation,2)))\n",
    "scatter.set_xlabel(\"Minutes Per Game\")\n",
    "scatter.set_ylabel(\"Hustle Scores\")"
   ]
  },
  {
   "cell_type": "markdown",
   "metadata": {},
   "source": [
    "The above plot shows a slight negative correlation between minutes per game and hustle scores.  That is to say that as a player's minutes per game increases, a player's hustle score generally decreases slightly. "
   ]
  },
  {
   "cell_type": "markdown",
   "metadata": {},
   "source": [
    "### 5.C Position vs. HustleScore\n",
    "We hypothesize that some positions might have a higher hustle score than others."
   ]
  },
  {
   "cell_type": "code",
   "execution_count": null,
   "metadata": {},
   "outputs": [],
   "source": [
    "positions = ['PG', 'SG', 'SF', 'PF', 'C']\n",
    "hustlePerPos = []\n",
    "for pos in positions:\n",
    "    hustlePerPos.append(hustleStats[hustleStats['Pos'] == pos]['HustleScore'].median())\n",
    "    \n",
    "fig, ax = plt.subplots()\n",
    "ax.bar(positions, hustlePerPos, color = ['#cccccc', '#9eadba', '#6f8eaa', '#416e99', '#165089'])\n",
    "ax.set_xlabel(\"Positions\")\n",
    "ax.set_ylabel(\"Hustle Score\")\n",
    "ax.set_title(\"Distribution of Hustle Score Across Positions\")"
   ]
  },
  {
   "cell_type": "markdown",
   "metadata": {},
   "source": [
    "As seen in the above plot, centers generally have the highest hustle score."
   ]
  },
  {
   "cell_type": "markdown",
   "metadata": {},
   "source": [
    "### 5.D HustleScore per Position between Top and Bottom Teams\n",
    "We hypothesize that there might be a difference in hustle score between top and bottom teams by position. We define a top team to have 48 or more wins."
   ]
  },
  {
   "cell_type": "code",
   "execution_count": null,
   "metadata": {},
   "outputs": [],
   "source": [
    "# Define a top team as having greater than or equal to 48 wins\n",
    "topTeams = teamWinsTable[teamWinsTable['Wins'] >= 48]\n",
    "bottomTeams = teamWinsTable[teamWinsTable['Wins'] < 48]"
   ]
  },
  {
   "cell_type": "code",
   "execution_count": null,
   "metadata": {},
   "outputs": [],
   "source": [
    "# Import hustle stat into tables with wins\n",
    "topTeamsPlayers = pd.merge(topTeams, hustleStats, how='left', on=['Team']).sort_values('Pos')\n",
    "bottomTeamsPlayers = pd.merge(bottomTeams, hustleStats, how='left', on=['Team']).sort_values('Pos')"
   ]
  },
  {
   "cell_type": "code",
   "execution_count": null,
   "metadata": {},
   "outputs": [],
   "source": [
    "# Set width of bars\n",
    "barWidth = 0.25\n",
    " \n",
    "# Set height of bars\n",
    "bars1 = topTeamsPlayers.groupby(['Pos']).median()['HustleScore']\n",
    "bars2 = bottomTeamsPlayers.groupby(['Pos']).median()['HustleScore']\n",
    "\n",
    "# Set position of bars on x axis\n",
    "r1 = np.arange(len(bars1))\n",
    "r2 = [x + barWidth for x in r1]\n",
    " \n",
    "# Make the plot\n",
    "plt.bar(r1, bars1, color='blue', width=barWidth, edgecolor='white', label='Top Teams')\n",
    "plt.bar(r2, bars2, color='orange', width=barWidth, edgecolor='white', label='Bottom Teams')\n",
    " \n",
    "# Add xticks on the middle of the group bars\n",
    "plt.xlabel('Position')\n",
    "plt.ylabel('Median Hustle Score')\n",
    "plt.xticks([r + barWidth/2 for r in range(len(bars1))], ['C', 'PF', 'PG', 'SF', 'SG'])\n",
    "plt.title(\"Hustle Score for Positions for Top vs. Bottom Teams\")\n",
    "\n",
    "# Create legend and show plot\n",
    "plt.legend()\n",
    "plt.show()"
   ]
  },
  {
   "cell_type": "markdown",
   "metadata": {},
   "source": [
    "As seen in the above plot, centers on top teams generally hustle more than centers on bottom teams. In the other positions players on bottom teams tend to hustle more. However, the differences are not significant."
   ]
  },
  {
   "cell_type": "markdown",
   "metadata": {},
   "source": [
    "### 5.E Player Salary vs. HustleScore\n",
    "We explore the correlation between salary and HustleScore."
   ]
  },
  {
   "cell_type": "code",
   "execution_count": null,
   "metadata": {},
   "outputs": [],
   "source": [
    "# Merge hustle stats and salaries into one table\n",
    "salaryHustle = pd.merge(hustleStats, salaryTable, on=['Player', 'year'], how='inner')\n",
    "salaryHustle.head()"
   ]
  },
  {
   "cell_type": "code",
   "execution_count": null,
   "metadata": {},
   "outputs": [],
   "source": [
    "scatter = salaryHustle.plot.scatter('HustleScore', 'salary')\n",
    "\n",
    "(m, b) = np.polyfit(salaryHustle['HustleScore'], salaryHustle['salary'], 1)\n",
    "# Calculate the actual best fit line \n",
    "regression_line = [(m*x)+b for x in salaryHustle['HustleScore']]\n",
    "scatter.plot(salaryHustle['HustleScore'], regression_line, color='red') \n",
    "\n",
    "# Calculate the correlation coefficient r \n",
    "correlation = np.corrcoef(salaryHustle['HustleScore'], salaryHustle['salary'])[0,1]\n",
    "\n",
    "# Label the plot\n",
    "scatter.set_title(\"Distribution of Hustle Scores Across Salary with r = \" + str(round(correlation,2)))"
   ]
  },
  {
   "cell_type": "markdown",
   "metadata": {},
   "source": [
    "As seen in the above plot, there is basically no correlation between a player's hustle score and his salary."
   ]
  },
  {
   "cell_type": "markdown",
   "metadata": {},
   "source": [
    "## 6. Predictions\n",
    "In the following section, we try to use our calculated hustle score to predict other statistics using Linear Regression models."
   ]
  },
  {
   "cell_type": "markdown",
   "metadata": {},
   "source": [
    "### 6.A Predicting Player Points with HustleScore\n",
    "We predict the number of points each player scores per game based on our calculated hustle score."
   ]
  },
  {
   "cell_type": "code",
   "execution_count": null,
   "metadata": {},
   "outputs": [],
   "source": [
    "# Get table with all the hustle stats and the points for each player\n",
    "hustleStatsWithPTS = hustleStats.merge(regularStats[['Player', 'PTS', 'year']], on=['Player', 'year'], how='left')\n",
    "hustleStatsWithPTS = hustleStatsWithPTS.dropna()\n",
    "hustleStatsWithPTS = hustleStatsWithPTS.sort_values(by=['year', 'PTS'], ascending=False)\n",
    "hustleStatsWithPTS.head()"
   ]
  },
  {
   "cell_type": "code",
   "execution_count": null,
   "metadata": {},
   "outputs": [],
   "source": [
    "# Fit linear rergression model with one parameter and calculate residuals\n",
    "hustleReg = LinearRegression()\n",
    "hustleReg.fit(hustleStatsWithPTS[['HustleScore']],hustleStatsWithPTS['PTS'])\n",
    "hustleStatsWithPTS['hustleResidual'] = hustleStatsWithPTS['PTS'] - hustleReg.predict(hustleStatsWithPTS[['HustleScore']])"
   ]
  },
  {
   "cell_type": "code",
   "execution_count": null,
   "metadata": {},
   "outputs": [],
   "source": [
    "hustleViolin = sns.violinplot(x=\"Team\", y=\"hustleResidual\", data=hustleStatsWithPTS)\n",
    "hustleViolin.set_title(\"Residuals for calculated hustles score predictive model by team\")"
   ]
  },
  {
   "cell_type": "markdown",
   "metadata": {},
   "source": [
    "In the above plot, only SAC has a short violin with many points clustered around 0. Thus our calculated hustle score does not effectively predict player points."
   ]
  },
  {
   "cell_type": "markdown",
   "metadata": {},
   "source": [
    "### 6.B Predicting Player Points with Regular Statistics\n",
    "We predict points using regular statistics to see if it is more effective than using our hustle statistics. The statistics we use are assists, blocks, turnovers, defensive rebounds, and field goal percentage."
   ]
  },
  {
   "cell_type": "code",
   "execution_count": null,
   "metadata": {},
   "outputs": [],
   "source": [
    "# Merge the team column into the regular stats table\n",
    "regularStatsWithTeam = regularStats.merge(hustleStats[['Player', 'Team', 'year']], on=['Player', 'year']).drop(['#'], axis=1)\n",
    "regularStatsWithTeam = regularStatsWithTeam.drop(['GP', 'MIN'], axis=1)\n",
    "regularStatsWithTeam.head()"
   ]
  },
  {
   "cell_type": "code",
   "execution_count": null,
   "metadata": {},
   "outputs": [],
   "source": [
    "# Fit linear regression model\n",
    "regularStatsReg = LinearRegression()\n",
    "regularStatsReg.fit(regularStatsWithTeam[['AST', 'BLK', 'TOV', 'DREB', 'FG%']], regularStatsWithTeam['PTS'])"
   ]
  },
  {
   "cell_type": "code",
   "execution_count": null,
   "metadata": {},
   "outputs": [],
   "source": [
    "# Calculate residuals and plot\n",
    "regularStatsWithTeam['residuals'] = regularStatsWithTeam['PTS'] - regularStatsReg.predict(regularStatsWithTeam[['AST', 'BLK', 'TOV', 'DREB', 'FG%']])\n",
    "regViolin = sns.violinplot(x=\"Team\", y=\"residuals\", data=regularStatsWithTeam)\n",
    "regViolin.set_title(\"Residuals of Point Predictions based on Regular Statistics\")"
   ]
  },
  {
   "cell_type": "markdown",
   "metadata": {},
   "source": [
    "Some players' points are predicted well by their regular stats, while others are not."
   ]
  },
  {
   "cell_type": "markdown",
   "metadata": {},
   "source": [
    "### 6.C Predicting Player Points with Regular Statistics and HustleScore\n",
    "We look to see if a combination of the hustle score with regular statistics predicts player points more effectively. "
   ]
  },
  {
   "cell_type": "code",
   "execution_count": null,
   "metadata": {},
   "outputs": [],
   "source": [
    "# Merge calculated hustle stat into regular stats table\n",
    "allStats = regularStatsWithTeam.merge(hustleStats[['Player', 'year', 'HustleScore']], on=['Player', 'year'])\n",
    "allStats = allStats.dropna()\n",
    "allStats.head()"
   ]
  },
  {
   "cell_type": "code",
   "execution_count": null,
   "metadata": {},
   "outputs": [],
   "source": [
    "# Perform the same regression as earlier but with the added hustle score column\n",
    "hustleRegularStatsReg = LinearRegression()\n",
    "hustleRegularStatsReg.fit(allStats[['AST', 'BLK', 'TOV', 'DREB', 'FG%', 'HustleScore']], allStats['PTS'])"
   ]
  },
  {
   "cell_type": "code",
   "execution_count": null,
   "metadata": {},
   "outputs": [],
   "source": [
    "allStats['residuals'] = allStats['PTS'] - hustleRegularStatsReg.predict(allStats[['AST', 'BLK', 'TOV', 'DREB', 'FG%', 'HustleScore']])\n",
    "violin = sns.violinplot(x=\"Team\", y=\"residuals\", data=allStats)\n",
    "violin.set_title(\"Residuals of predictive model using regular statistics with hustle score\")"
   ]
  },
  {
   "cell_type": "markdown",
   "metadata": {},
   "source": [
    "As we see here, the hustle score slightly improves the player points per game prediction for PHX but not for the rest of the teams."
   ]
  },
  {
   "cell_type": "markdown",
   "metadata": {},
   "source": [
    "### 6.D Predicting Team Wins with Hustle Score\n",
    "We look to see if team hustle score (sum of individual hustle scores) predicts team wins."
   ]
  },
  {
   "cell_type": "code",
   "execution_count": null,
   "metadata": {},
   "outputs": [],
   "source": [
    "# Sum hustle score by team and add wins to table\n",
    "hustleStatsWithWins = hustleStats.groupby(['Team', 'year']).sum().merge(teamWinsTable, on=['Team', 'year'])\n",
    "hustleStatsWithWins.head()"
   ]
  },
  {
   "cell_type": "code",
   "execution_count": null,
   "metadata": {},
   "outputs": [],
   "source": [
    "# Fit linear regression model with one parameter\n",
    "hustleWinsReg = LinearRegression()\n",
    "hustleWinsReg.fit(hustleStatsWithWins[['HustleScore']], hustleStatsWithWins['Wins'])"
   ]
  },
  {
   "cell_type": "code",
   "execution_count": null,
   "metadata": {
    "scrolled": false
   },
   "outputs": [],
   "source": [
    "# Calculate residuals and plot using boxplot\n",
    "hustleStatsWithWins['residuals'] = hustleStatsWithWins['Wins'] - hustleWinsReg.predict(hustleStatsWithWins[['HustleScore']])\n",
    "hustleStatsWithWins.boxplot(column=['residuals'], by='year')"
   ]
  },
  {
   "cell_type": "markdown",
   "metadata": {},
   "source": [
    "As seen in the above boxplot, HustleScore does a pretty good job of predicting wins for a team, especially in 2016-17. The mean residual hovers around 0, as seen by the green lines. The middle 50 percent are within about 5 wins for each year."
   ]
  },
  {
   "cell_type": "markdown",
   "metadata": {},
   "source": [
    "## 7. There's no \"I\" in Team\n",
    "6.D showed a correlation between team HustleScore and wins. We explore that further in this section and focus more on teams as opposed to individual players."
   ]
  },
  {
   "cell_type": "markdown",
   "metadata": {},
   "source": [
    "### 7.A Plotting Team HustleScore vs. Wins"
   ]
  },
  {
   "cell_type": "code",
   "execution_count": null,
   "metadata": {},
   "outputs": [],
   "source": [
    "teamWinsTable = hustleStatsWithWins[['HustleScore', 'Wins', 'Team', 'year']]\n",
    "# Merge team HustleScore into table with general team stats\n",
    "teamStatsTable = teamStatsTable.merge(teamWinsTable[['Team', 'year', 'Wins', 'HustleScore']], on=['Team', 'year'])\n",
    "teamStatsTable.head()"
   ]
  },
  {
   "cell_type": "code",
   "execution_count": null,
   "metadata": {},
   "outputs": [],
   "source": [
    "# Convert type of wins column to int32 because cannot be of object type when plotting \n",
    "teamStatsTable['Wins'] = teamStatsTable['Wins'].astype('int32')\n",
    "x = teamStatsTable['HustleScore']\n",
    "y = teamStatsTable['Wins']\n",
    "fig, ax = plt.subplots()\n",
    "ax.scatter(x, y) \n",
    "\n",
    "# Calculate the slope and intercept for the best fit line \n",
    "(m, b) = np.polyfit(teamStatsTable['HustleScore'], teamStatsTable['Wins'], 1)\n",
    "# Calculate the actual best fit line \n",
    "regression_line = [(m*x)+b for x in teamStatsTable['HustleScore']]\n",
    "ax.plot(teamStatsTable['HustleScore'], regression_line, color='red') \n",
    "\n",
    "# Calculate the correlation coefficient r \n",
    "correlation = np.corrcoef(teamStatsTable['HustleScore'], teamStatsTable['Wins'])[0,1]\n",
    "\n",
    "# Label the plot\n",
    "ax.set_title(\"Distribution of Hustle Scores Across Wins with r = \" + str(round(correlation,2)))\n",
    "ax.set_xlabel(\"Team Hustle Score\")\n",
    "ax.set_ylabel(\"Team Wins\")"
   ]
  },
  {
   "cell_type": "markdown",
   "metadata": {},
   "source": [
    "As seen in the above plot with the high correlation coefficient r, there is a strong positive correlation between a team's HustleScore and its wins. This shows that our HustleScore is in fact significant and predicts wins better than other statistics that we have looked at.\n",
    "## 7.B Top Teams vs. Bottom Teams\n",
    "To further corroborate our results from 7.A we plot the differences between top and bottom teams for the HustleScore and for other statistics. If we see a significant difference between the top and bottom teams for the HustleScore but not for other statistics, then we have further shown that our HustleScore is meaningful."
   ]
  },
  {
   "cell_type": "code",
   "execution_count": null,
   "metadata": {},
   "outputs": [],
   "source": [
    "# Create new tables with top and bottom teams\n",
    "topTeams = teamStatsTable[teamStatsTable['Wins'] >= 48]\n",
    "bottomTeams = teamStatsTable[teamStatsTable['Wins'] < 48]\n",
    "figsize(14, 12)"
   ]
  },
  {
   "cell_type": "code",
   "execution_count": null,
   "metadata": {},
   "outputs": [],
   "source": [
    "# Function for graphing a statistic for top vs. bottom teams\n",
    "def graph(ax, stat, name):\n",
    "    x = topTeams[stat].median()\n",
    "    y = bottomTeams[stat].median()\n",
    "    ax.bar(['Top Teams'], x)\n",
    "    ax.bar(['Bottom Teams'], y)\n",
    "    ratio = x/y\n",
    "    ax.set_title(name + \", Ratio = \" + str(round(ratio, 3)))\n",
    "    ax.set_ylabel(name)\n",
    "    \n",
    "print(\"Differences between Top and Bottom Teams where Ratio = Top Teams Score / Bottom Teams Score\")\n",
    "\n",
    "fig, axes = plt.subplots(3, 3)\n",
    "graph(axes[0, 0], 'PTS', 'Points per Game')\n",
    "graph(axes[0, 1], 'AST', 'Assists Per Game')\n",
    "graph(axes[0, 2], 'TOV', 'Turnovers')\n",
    "graph(axes[1, 0], 'FG%', 'Field Goal Percentage')\n",
    "graph(axes[1, 1], '3P%', '3 Point Percentage')\n",
    "graph(axes[1, 2], 'FT%', 'Free Throw Percentage')\n",
    "graph(axes[2, 0], 'ORB', 'Offensive Rebounds')\n",
    "graph(axes[2, 1], 'DRB', 'Defensive Rebounds')\n",
    "graph(axes[2, 2], 'TRB', 'Total Rebounds')"
   ]
  },
  {
   "cell_type": "code",
   "execution_count": null,
   "metadata": {},
   "outputs": [],
   "source": [
    "figsize(14, 6)"
   ]
  },
  {
   "cell_type": "code",
   "execution_count": null,
   "metadata": {
    "scrolled": false
   },
   "outputs": [],
   "source": [
    "fig, ax = plt.subplots()\n",
    "graph(ax, 'HustleScore', 'HustleScore')"
   ]
  },
  {
   "cell_type": "markdown",
   "metadata": {},
   "source": [
    "As seen above, the ratio of the HustleScore between the top and bottom teams is almost 10% better than any of the other statistics we plotted. This shows that our HustleScore is significant."
   ]
  },
  {
   "cell_type": "markdown",
   "metadata": {},
   "source": [
    "## 8. Conclusion\n"
   ]
  },
  {
   "cell_type": "markdown",
   "metadata": {},
   "source": [
    "In our project, we tried to create a meaningful statistic to gauge player performance. To do this, we used advanced statistics from the NBA to create what we called a **HustleScore** for each player. We had trouble finding correlation between a player's HustleScore and other statistics for individual players.  However, we noticed that a team's HustleScore had a significant positive correlation with a team's overall wins.  \n",
    "\n",
    "In terms of future work, there are other advanced statistics that could be incorporated into calculating the HustleScore for each player. Some of these [statistics](https://stats.nba.com/players/speed-distance/?sort=DIST_MILES_DEF&dir=1&Season=2017-18&SeasonType=Regular%20Season) include average MPH, distance traveled, and boxouts. These statistics might improve our correlations and predictive models.\n",
    "\n",
    "Based on these findings, we would recommend that NBA general managers look more into a team's hustle when trying to create a championship team. Our statistics show that a team that hustles more wins more. Due to the fact that wins is the most important team statistic, we conclude that our HustleScore is a meaningful statistic. Moneyball 2.0?!"
   ]
  }
 ],
 "metadata": {
  "kernelspec": {
   "display_name": "Python 3",
   "language": "python",
   "name": "python3"
  },
  "language_info": {
   "codemirror_mode": {
    "name": "ipython",
    "version": 3
   },
   "file_extension": ".py",
   "mimetype": "text/x-python",
   "name": "python",
   "nbconvert_exporter": "python",
   "pygments_lexer": "ipython3",
   "version": "3.7.0"
  }
 },
 "nbformat": 4,
 "nbformat_minor": 2
}
